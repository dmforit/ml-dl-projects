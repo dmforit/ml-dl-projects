{
  "cells": [
    {
      "cell_type": "markdown",
      "metadata": {
        "id": "_wA-dC-7bO-Z"
      },
      "source": [
        "# `Практикум по программированию на языке Python`\n",
        "\n",
        "## `Задание 01. Полносвязная нейронная сеть на numpy`.\n",
        "\n",
        "#### Фамилия, имя:\n",
        "\n",
        "Дата выдачи: <span style=\"color:red\">__20 февраля__</span>.\n",
        "\n",
        "Мягкий дедлайн: <span style=\"color:red\">__6 марта 23:59__</span>.\n",
        "\n",
        "Стоимость: __10 баллов__ (основная часть заданий) + __3 балла__ (дополнительные задания).\n",
        "\n",
        "<span style=\"color:red\">__В ноутбуке все клетки должны выполняться без ошибок при последовательном их выполнении.__</span>\n",
        "\n",
        "#### `Москва, 2024`"
      ]
    },
    {
      "cell_type": "code",
      "execution_count": 86,
      "metadata": {
        "id": "y7wofWelbO-b"
      },
      "outputs": [],
      "source": [
        "import numpy as np"
      ]
    },
    {
      "cell_type": "markdown",
      "metadata": {
        "id": "TRaq1lxRbO-c"
      },
      "source": [
        "## `Теоретическая часть (3 балла)`"
      ]
    },
    {
      "cell_type": "markdown",
      "metadata": {
        "id": "QPGGmyKVbO-c"
      },
      "source": [
        "В этом блоке вам нужно решить 3 задания."
      ]
    },
    {
      "cell_type": "markdown",
      "metadata": {
        "id": "FnY2bk5qbO-c"
      },
      "source": [
        "### `Задание 1. Градиенты для слоя Batch normalization (1.5 балла)`"
      ]
    },
    {
      "cell_type": "markdown",
      "metadata": {
        "id": "Z3lQgHBxbO-d"
      },
      "source": [
        "Рассмотрим слой Batch normalization. Пусть на вход этого слоя был подан батч из $n$ объектов, при этом у всех объектов по 1 признаку. Представим вход BN слоя в виде $X \\in \\mathbb{R}^{n \\times 1}$.\n",
        "\n",
        "Тогда в этом слое производятся следующие вычисления:\n",
        "\n",
        "$$ \\mu = \\frac1n \\sum_{i=1}^{n} X_i $$\n",
        "\n",
        "$$ \\sigma^2 = \\frac1n \\sum_{i=1}^{n} \\left( X_i - \\mu \\right) ^2 $$\n",
        "\n",
        "$$ \\tilde{y_i} = \\frac{X_i - \\mu}{\\sqrt{\\sigma^2 + \\varepsilon}} $$\n",
        "\n",
        "$$ y_i = \\gamma \\tilde{y_i} + \\delta $$\n",
        "\n",
        "Выходом BN слоя является $y_i$, а $\\gamma,\\delta\\in\\mathbb{R}$ — параметры, которые подбираются во время обучения вместе с другими параметрами нейронной сети (наряду, например, с весами линейного слоя).\n",
        "\n",
        "Рассмотрим нейронную сеть, в которой есть BN слой. Предположим, что вычисления в нейронной сети завершаются подсчетом функции потерь $\\mathcal{L}$. Пусть мы выполнили прямой проход по нейронной сети и сейчас делаем обратный проход с помощью метода обратного распространения ошибки. Пусть BN слою пришел градиент функции потерь по выходу BN слоя ($\\nabla_{y} \\mathcal{L}$).\n",
        "\n",
        "В этом задании вам нужно записать вычисление градиента функции потерь по параметрам слоя BN $\\gamma$ и $\\delta$ ($\\nabla_{\\gamma} \\mathcal{L}$, $\\nabla_{\\delta} \\mathcal{L}$) через $\\nabla_{y} \\mathcal{L}$, а также вам нужно записать вычисление градиента функции потерь по входу слоя BN $X$ ($\\nabla_{X} \\mathcal{L}$) через $\\nabla_{y} \\mathcal{L}$.\n",
        "\n",
        "Хочу заметить, в данном задании мы рассматриваем объекты всего с 1 признаком, чтобы упростить выкладки."
      ]
    },
    {
      "cell_type": "markdown",
      "metadata": {
        "id": "QKAhGQBRbO-d"
      },
      "source": [
        "__Ваше решение:__\n",
        "\n",
        "0. В решении будем пользоваться формулой вычисления производной композиции функций для матричного исчисления. Введём обозначения для применения оператора набла:\n",
        "$\\nabla_{\\mathit{X}}f := \\dfrac{\\partial f}{\\partial \\mathit{X}}$, где $\\mathit{X}\\in \\mathbb{R}^{m \\times n}$, а также $\\nabla_{\\overrightarrow{x}}f := \\left(\\dfrac{\\partial f}{\\partial \\overrightarrow{x}}\\right)^{T}$, где $\\overrightarrow{x} \\in \\mathbb{R}^{n \\times 1}$. Учтём также, что взятие оператора набла от скалярной функции для скалярного аргумента - это вектор, состоящий из одной частной производной. Также важным будет отметить, что $\\nabla_{x}\\overrightarrow{f} := \\left(\\nabla_{x} f_{1}, \\: \\nabla_{x} f_{2}, \\: \\ldots, \\: \\nabla_{x} f_{n}\\right)^{T}$. С учётом этих замечаний найдём необходимые нам градиенты.\n",
        "\n",
        "1. $\\nabla_{\\gamma}\\mathcal{L} = \\nabla_{y} \\mathcal{L} \\cdot \\nabla_{\\gamma}y = \\nabla_{y} \\mathcal{L} \\cdot \\left( \\frac{\\partial y_1}{\\partial \\gamma}, \\: \\ldots, \\: \\frac{\\partial y_{n + 1}}{\\partial \\gamma}\\right)^{T} = \\nabla_{y} \\mathcal{L} \\cdot \\left( \\tilde{y}_1, \\: \\ldots, \\: \\tilde{y}_{n + 1}\\right)^{T} = \\nabla_{y} \\mathcal{L} \\cdot \\tilde{y}$\n",
        "2. $\\nabla_{\\delta}\\mathcal{L} = \\nabla_{y} \\mathcal{L} \\cdot \\nabla_{\\delta}y = \\nabla_{y} \\mathcal{L} \\cdot \\left( \\frac{\\partial y_1}{\\partial \\delta}, \\: \\ldots, \\: \\frac{\\partial y_{n + 1}}{\\partial \\delta}\\right)^{T} = \\nabla_{y} \\mathcal{L} \\cdot \\left( 1, \\: \\ldots, \\: 1\\right)^{T} = \\nabla_{y} \\mathcal{L}$\n",
        "3. $\\nabla_{\\mathit{X}}\\mathcal{L} = \\nabla_{y} \\mathcal{L} \\cdot \\nabla_{\\mathit{X}} \\: y = \\gamma \\nabla_{y} \\mathcal{L} \\cdot \\nabla_{\\mathit{X}} \\: \\tilde{y}$. Запишем элемент матрицы $\\nabla_{\\mathit{X}} \\: \\tilde{y}$ в позиции $(i, \\: j)$:\n",
        "\n",
        "$\\dfrac{\\partial \\tilde{y}_{i}}{\\partial X_j} = \\dfrac{([i = j] - \\frac{1}{n}) \\sqrt{\\sigma^2 + \\varepsilon} \\: - (X_i - \\mu)\\left(\\frac{1}{2\\sqrt{\\sigma^2 + \\varepsilon}} \\cdot \\dfrac{2}{n} \\sum_{k = 1}^{n}(X_k - \\mu)([k = j] - \\frac{1}{n})\\right)}{\\sigma^2 + \\varepsilon} =$\n",
        "\n",
        "$= \\dfrac{([i = j] - \\frac{1}{n}) (\\sigma^2 + \\varepsilon) \\: - \\dfrac{(X_i - \\mu)}{n}\\sum_{k = 1}^{n}(X_k - \\mu)([k = j] - \\frac{1}{n})}{(\\sigma^2 + \\varepsilon)^{\\frac{3}{2}}} = \\dfrac{([i = j] - \\frac{1}{n}) (\\sigma^2 + \\varepsilon) \\: - \\dfrac{(X_i - \\mu)}{n} \\left( - \\frac{1}{n} \\sum_{k = 1}^{n}(X_k - \\mu) + (X_j - \\mu) \\right) }{(\\sigma^2 + \\varepsilon)^{\\frac{3}{2}}} =$\n",
        "\n",
        "$= \\dfrac{([i = j] - \\frac{1}{n}) (\\sigma^2 + \\varepsilon) \\: - \\dfrac{(X_i - \\mu)(X_j - \\mu)}{n}}{(\\sigma^2 + \\varepsilon)^{\\frac{3}{2}}} = \\begin{cases} \\dfrac{n - 1}{n\\sqrt{\\sigma^2 + \\varepsilon}} - \\dfrac{(X_i - \\mu)^2}{n(\\sigma^2 + \\varepsilon)^{\\frac{3}{2}}}, i = j \\\\ -\\dfrac{1}{n\\sqrt{\\sigma^2 + \\varepsilon}} - \\dfrac{(X_i - \\mu)(X_j - \\mu)}{n(\\sigma^2 + \\varepsilon)^{\\frac{3}{2}}}, i \\neq j\\end{cases}$\n",
        "\n",
        "Обозначим за $I \\in \\mathbb{R}^{n \\times n}$ единичную матрицу\n",
        "$\\begin{pmatrix}\n",
        "    1 & 0 & \\ldots & 0 \\\\\n",
        "    0 & 1 & \\ldots & 0 \\\\\n",
        "    \\vdots & \\vdots & \\ddots & \\vdots \\\\\n",
        "    0 & 0 & \\ldots & 1\n",
        "\\end{pmatrix}$, за $E \\in \\mathbb{R}^{n \\times n}$ обозначим матрицу\n",
        "$\\begin{pmatrix}\n",
        "    1 & 1 & \\ldots & 1 \\\\\n",
        "    1 & 1 & \\ldots & 1 \\\\\n",
        "    \\vdots & \\vdots & \\ddots & \\vdots \\\\\n",
        "    1 & 1 & \\ldots & 1\n",
        "\\end{pmatrix}$, состоящую из всех единиц, а за $\\bar{\\mathbf{1}} \\in \\mathbb{R}^{n \\times 1}$ вектор\n",
        "$\\begin{pmatrix}\n",
        "    1 & 1 & \\ldots & 1\n",
        "\\end{pmatrix}^T$, состоящий из всех единиц. Тогда $\\nabla_{\\mathit{X}} \\: \\tilde{y} = \\dfrac{1}{\\sqrt{\\sigma^2 + \\varepsilon}} I - \\dfrac{1}{n\\sqrt{\\sigma^2 + \\varepsilon}}E - \\dfrac{(X - \\mu\\bar{\\mathbf{1}})(X - \\mu\\bar{\\mathbf{1}})^T}{n(\\sigma^2 + \\varepsilon)^{\\frac{3}{2}}}$\n",
        "\n",
        "Тогда $\\nabla_{\\mathit{X}}\\mathcal{L} = \\dfrac{\\gamma}{\\sqrt{\\sigma^2 + \\varepsilon}} \\nabla_{y} \\mathcal{L}\\left(I - \\dfrac{1}{n}E - \\dfrac{(X - \\mu\\bar{\\mathbf{1}})(X - \\mu\\bar{\\mathbf{1}})^T}{n(\\sigma^2 + \\varepsilon)} \\right)$"
      ]
    },
    {
      "cell_type": "markdown",
      "metadata": {
        "id": "FG2nv6XrbO-d"
      },
      "source": [
        "### `Задание 2. Вывод инициализации весов линейного слоя при использовании ReLU в качестве функции активации (1 балл)`"
      ]
    },
    {
      "cell_type": "markdown",
      "metadata": {
        "id": "uvsfQtX7bO-e"
      },
      "source": [
        "Рассмотрим полносвязную нейронную сеть с функцией активации $g(y)$. Пусть сеть состоит из $L$ слоев и размер входа слоя $l$ равен $n_l\\ \\ (l = \\overline{1, L})$.\n",
        "\n",
        "Обозначим за $x^l \\in \\mathbb{R}^{n_{l}}$ вход слоя $l$, за $y^l \\in \\mathbb{R}^{n_{l+1}}$ — выход слоя $l$, за $W^l \\in \\mathbb{R}^{n_{l+1} \\times n_{l}}$ — веса слоя $l$, за $b^l \\in \\mathbb{R}^{n_{l+1}}$ — вектор сдвига слоя $l$.\n",
        "\n",
        "Тогда\n",
        "$$y^l = W^l x^l + b^l,$$\n",
        "$$x^{l+1} = g(y^l).$$\n",
        "\n",
        "На паре вы выводили хорошую инициализацию для линейного слоя в случае, когда в качестве функции активации $g(y)$ в нейронной сети используется гиперболический тангенс $g(y) = \\tanh(y)$. Сейчас вам нужно сделать подобный вывод для случая, когда в сети в качестве функций активации используется $g(y) = ReLU(y) = \\max(0, y)$.\n",
        "\n",
        "Сделаем следующие предположения насчет того, как распределены веса $W^l$, вектор сдвига $b^l$, входной вектор $x^l$, выходной вектор $y^l$ линейного слоя и градиенты функции потерь $\\frac{\\partial L}{\\partial y^{l}}$ $(l = \\overline{1, L}$):\n",
        "\n",
        "1. Все компоненты в $W^l$ распределены одинаково и независимо друг от друга;\n",
        "2. Все компоненты в $y^l$ распределены одинаково и независимо друг от друга;\n",
        "3. Все компоненты в $x^l$ распределены одинаково и независимо друг от друга;\n",
        "4. Все компоненты в $\\frac{\\partial L}{\\partial y^{l}}$ распределены одинаково и независимо друг от друга;\n",
        "5. Все компоненты в $W^l$ и все компоненты в $x^l$ независимы друг от друга;\n",
        "6. Все компоненты в $W^l$ имеют четную плотность распределения (то есть симметричную относительно нуля: $p_{W^l}(-x) = p_{W^l}(x)$);\n",
        "7. Все компоненты в $W^l$ имеют конечное матожидание;\n",
        "8. Вектор $b^l$ инициализирован нулями.\n",
        "\n",
        "\n",
        "Подсказки:\n",
        "1. Из пунктов 6 и 7 следует, что все компоненты в $W^l$ имеют нулевое среднее ($\\mathbb{E} W^l_{ij} = 0\\ \\ \\forall i = \\overline{1, n_{l+1}}, j = \\overline{1, n_{l}}$) (докажите);\n",
        "2. Из пунктов 6 и 7 следует, что все компоненты в $y^l$ имеют нулевое среднее и четную плотность распределения (докажите)."
      ]
    },
    {
      "cell_type": "markdown",
      "metadata": {
        "id": "w_h5VVj5bO-e"
      },
      "source": [
        "__Ваше решение:__\n",
        "\n",
        "1. Для верной инициализации весов мы должны добиться того, чтобы дисперсия и математическое ожидание активаций $y^{l}_{i}$ были одинаковы от слоя к слою при прямом проходе ($forward$), то есть $\\forall l \\in \\overline{1, L}, \\ \\ \\forall i \\in \\overline{1, n_{l+1}}, \\ \\ \\forall j \\in \\overline{1, n_l} \\ \\ \\begin{cases}\\mathbb{E}y^l_i = \\mathbb{E}y^{l-1}_i \\\\ \\mathbb{D}y^l_i = \\mathbb{D}y^{l-1}_i \\end{cases}$, а при обратном проходе ($backward$) градиенты функции потерь по активациям тоже имели одинаковые математическое ожидание и дисперсию от слоя к слою, то есть $\\forall l \\in \\overline{1, L}, \\ \\ \\forall i \\in \\overline{1, n_{l+1}}, \\ \\ \\forall j \\in \\overline{1, n_l} \\ \\ \\begin{cases}\\mathbb{E}\\left[\\dfrac{\\partial \\mathcal{L}}{\\partial y^l_i}\\right] = \\mathbb{E}\\left[\\dfrac{\\partial \\mathcal{L}}{\\partial y^{l-1}_i}\\right] \\\\ \\mathbb{D}\\left[\\dfrac{\\partial \\mathcal{L}}{\\partial y^l_i}\\right] = \\mathbb{D}\\left[\\dfrac{\\partial \\mathcal{L}}{\\partial y^{l-1}_i}\\right] \\end{cases}$ Перед началом докажем 2 пункта из подсказок.\n",
        "2. Покажем, что $\\mathbb{E} W^l_{ij} = 0\\ \\ \\forall i \\in \\overline{1, n_{l+1}}, \\ j \\in \\overline{1, n_{l}}$ с учётом пунктов 6 и 7.\n",
        "\n",
        "Известно, что $p_{W_{ij}^{l}}(-x) = p_{W_{ij}^{l}}(x) \\Rightarrow \\mathbb{E} W^l_{ij} = \\int^{+\\infty}_{-\\infty}xp_{W_{ij}^{l}}(x)dx = \\int^{0}_{-\\infty}xp_{W_{ij}^{l}}(x)dx + \\int^{+\\infty}_{0}xp_{W_{ij}^{l}}(x)dx = \\int^{0}_{-\\infty}(-x)p_{W_{ij}^{l}}(-x)d(-x) + \\int^{+\\infty}_{0}xp_{W_{ij}^{l}}(x)dx = [\\textit{делаем замену в первом интеграле с последующим переименованием переменной}] = \\int^{0}_{+\\infty}xp_{W_{ij}^{l}}(x)d(x) + \\int^{+\\infty}_{0}xp_{W_{ij}^{l}}(x)dx = - \\int^{+\\infty}_{0}xp_{W_{ij}^{l}}(x)d(x) + \\int^{+\\infty}_{0}xp_{W_{ij}^{l}}(x)dx = 0$\n",
        "\n",
        "3. Покажем, что $\\mathbb{E}y^l_i = 0 \\ \\ \\forall i \\in \\overline{1, n_{l+1}}, \\ \\forall l \\in \\overline{1, L}$.\n",
        "\n",
        "$\\mathbb{E}y^l_i = [\\textit{учитываем, что вектор сдвига нулевой}] = \\mathbb{E}[(W^lx^l)_i] = \\mathbb{E} \\left[ \\sum_{k=1}^{n_l}W^l_{ik}x^l_k \\right] = \\sum_{k=1}^{n_l}\\mathbb{E} \\left[W^l_{ik}x^l_k \\right] = [\\textit{пункт 5, пункт 1}] = n_l \\ \\mathbb{E}W^l_{i1} \\ \\mathbb{E}x^l_1 = 0 \\ \\ \\textit{так как} \\ \\ \\mathbb{E}W^l_{i1} = 0 \\ \\ [\\textit{Пункт 2 доказательства}]$\n",
        "\n",
        "4. Покажем, что плотность распределения $p_{y^l_i}(x) = p_{y^l_i}(-x) \\ \\forall i \\in \\overline{1, n_{l+1}}, \\ \\forall l \\in \\overline{1, L}$\n",
        "\n",
        "Чтобы $p_{y^l_i}(x) = p_{y^l_i}(-x)$, то есть плотность распределения была чётной, плотности распределения $y^l_i$ и $-y^l_i$ должны совпадать: $p_{-y^l_i}(x) = p_{y^l_i}(x)$.\n",
        "Запишем, чему равна плотность распределения $-y^l_i$.\n",
        "\n",
        "$p_{y^l_i}(-x) = p_{\\sum_{k=1}^{n_l}(-W^l_{ik})x^l_k}(x) = [\\textit{плотность распределения суммы - это свёртка плотностей}] = (p_{(-W^l_{i1})x^l_1} \\ast \\ldots \\ast p_{(-W^l_{in_l})x^l_{n_l}})(x)$. Достаточно показать, что $p_{(-W^l_{is})x^l_s}(x) = p_{W^l_{is}x^l_s}(x) \\ \\forall s \\in \\overline{1, n_l}$\n",
        "\n",
        "По формуле плотности произведения случайных величин имеем $p_{W^l_{is}x^l_s}(x) = \\int^{+\\infty}_{-\\infty} p_{W^l_{is}}(u)p_{x^l_s}(\\frac{x}{u})du = [\\textit{пункт 6}] = \\int^{+\\infty}_{-\\infty} p_{-W^l_{is}}(u)p_{x^l_s}(\\frac{x}{u})du = p_{(-W^l_{is})x^l_s}(x) \\Rightarrow$ все компоненты в $y^l$ имеют чётную плотность распределения.\n",
        "5. Математические ожидания активаций были рассмотрены в 3 пункте доказательства. Рассмотрим теперь дисперсию активаций.\n",
        "\n",
        "$\\mathbb{D}y^l_i = \\mathbb{D}\\left[\\sum_{k=1}^{n_l} W_{ik}^{l}x_k^l \\right] = \\sum_{k=1}^{n_l} \\mathbb{D}\\left[W_{ik}^{l}x_k^l \\right] = \\sum_{k=1}^{n_l} \\left( \\mathbb{D}\\left[W_{ik}^{l}\\right] \\mathbb{D}\\left[ x_k^l \\right] + \\mathbb{D}\\left[W_{ik}^{l}\\right] \\left( \\mathbb{E}\\left[x^l_k\\right] \\right)^2 + \\mathbb{D}\\left[ x_k^l \\right] \\underbrace{\\left(\\mathbb{E}\\left[W^l_{ik}\\right] \\right)^2}_{0 \\ \\textit{по пункту 2}} \\right) = \\sum_{k=1}^{n_l} \\mathbb{D}\\left[W_{ik}^{l}\\right] \\mathbb{E}\\left[(x^l_k)^2\\right] = n_l \\mathbb{D}\\left[W_{ii}^{l}\\right] \\mathbb{E}\\left[(x^l_i)^2\\right]$\n",
        "\n",
        "Посчитаем $\\mathbb{E}\\left[(x^l_i)^2\\right] = \\mathbb{E}\\left[(max(0, y_i^{l-1}) )^2\\right] = \\int^{+\\infty}_{-\\infty}(max(0, x))^2 p_{y_i^{l-1}}(x)dx = \\frac{1}{2}\\int^{+\\infty}_{-\\infty}(x - 0)^2p_{y_i^{l-1}}(x)dx = \\frac{1}{2}\\mathbb{D}\\left[y_{i}^{l-1}\\right]$\n",
        "\n",
        "Отсюда получаем, что $\\mathbb{D}\\left[y_i^l\\right] = \\frac{n_l}{2}\\mathbb{D}\\left[W_{ii}^{l}\\right]\\mathbb{D}\\left[y_{i}^{l-1}\\right]$. Поэтому, чтобы выполнялось изначальное равенство $\\mathbb{D}\\left[y_i^l\\right] = \\mathbb{D}\\left[y_{i}^{l-1}\\right]$, у нас должно быть выполнено, что $\\mathbb{D}\\left[W_{ij}^{l}\\right] = \\frac{2}{n_l} \\ \\ \\forall i \\in \\overline{1, n_{l+1}}, \\ \\forall j \\in \\overline{1, n_l}, \\ \\forall l \\in \\overline{1, L}$\n",
        "\n",
        "6. Рассмотрим теперь обратный проход и посчитаем математическое ожидание градиентов по активациям. Пусть $\\delta_i^l = \\dfrac{\\partial \\mathcal{L}}{\\partial y_i^l}$, а также $g(x) = max(0, x)$ из условия.\n",
        "\n",
        "Тогда $\\delta_i^l = \\sum_{k=1}^{n_{l+2}} \\delta_k^{l+1} \\dfrac{\\partial y_k^{l+1}}{\\partial y_i^{l}} = \\sum_{k=1}^{n_{l+2}} \\delta_k^{l+1} \\dfrac{\\partial}{\\partial y_i^{l}} \\left( \\sum_{s=1}^{n_{l+1}}W_{ks}^{l+1}x_s^{l+1}\\right) = \\sum_{k=1}^{n_{l+2}} \\delta_k^{l+1} \\dfrac{\\partial}{\\partial y_i^{l}} \\left( \\sum_{s=1}^{n_{l+1}}W_{ks}^{l+1}g(y_s^l)\\right) = \\sum_{k=1}^{n_{l+2}} \\delta_k^{l+1}W_{ki}^{l+1} \\dfrac{\\partial g}{\\partial y_i^{l}}(y_i^{l}) = \\sum_{k=1}^{n_{l+2}} \\delta_k^{l+1}W_{ki}^{l+1} g'(y_i^{l})$\n",
        "\n",
        "Теперь получаем, что $\\mathbb{E}\\left[\\delta_i^l\\right] = [\\textit{учитываем не внесённые в условие задачи уточнения независимости всех необходимых случайных величин}] = \\sum_{k=1}^{n_{l+2}} \\mathbb{E}\\left[\\delta_k^{l+1}\\right] \\mathbb{E}\\underbrace{\\left[W_{ki}^{l+1}\\right]}_{0} \\underbrace{\\mathbb{E}\\left[g'(y_i^{l})\\right]}_{\\frac{1}{2}} = 0 \\ \\ \\forall i \\in \\overline{1, n_{l+1}}, \\ \\forall l \\in \\overline{1, L}$\n",
        "\n",
        "$D\\left[ \\delta_i^l \\right] = \\sum_{k=1}^{n_{l+2}} \\mathbb{D}\\left[\\delta_k^{l+1}W_{ki}^{l+1} g'(y_i^{l})\\right] = \\sum_{k=1}^{n_{l+2}} \\left[ \\mathbb{D}\\left[\\delta_k^{l+1}W_{ki}^{l+1}\\right] \\mathbb{E}\\left[(g'(y_i^{l}))^2\\right] + \\mathbb{D}\\left[g'(y_i^{l})\\right] \\mathbb{E}\\left[\\delta_k^{l+1}\\right] \\underbrace{\\mathbb{E}\\left[W_{ki}^{l+1}\\right]}_{0} \\right] = \\dfrac{1}{2}\\sum_{k=1}^{n_{l+2}}\\mathbb{D}\\left[\\delta_k^{l+1}W_{ki}^{l+1}\\right] = \\dfrac{1}{2}\\sum_{k=1}^{n_{l+2}}\\left[ \\mathbb{D}\\left[\\delta_k^{l+1}\\right] \\mathbb{D}\\left[W_{ki}^{l+1}\\right] + \\mathbb{D}\\left[\\delta_k^{l+1}\\right] \\underbrace{\\left(\\mathbb{E}\\left[W_{ki}^{l+1}\\right]\\right)^2}_{0} + \\mathbb{D}\\left[W_{ki}^{l+1}\\right] \\underbrace{\\left(\\mathbb{E}\\left[\\delta_k^{l+1}\\right]\\right)^2}_{0} \\right] = \\dfrac{1}{2}\\sum_{k=1}^{n_{l+2}} \\mathbb{D}\\left[\\delta_k^{l+1}\\right] \\mathbb{D}\\left[W_{ki}^{l+1}\\right] = [\\textit{по 1 и 4 пунктам}] = \\dfrac{n_{l+2}}{2} \\mathbb{D}\\left[W_{ii}^{l+1}\\right] \\mathbb{D}\\left[\\delta_i^{l+1}\\right]$\n",
        "\n",
        "Чтобы было выполнено предположение о равенстве дисперсий градиентов по активациям, видно, что необходимо выполнение следующего равенства: $\\mathbb{D}\\left[W_{ij}^{l+1}\\right] = \\dfrac{2}{n_{l+2}}$, или же, что то же самое, $\\mathbb{D}\\left[W_{ij}^{l}\\right] = \\dfrac{2}{n_{l+1}} \\ \\ \\forall i \\in \\overline{1, n_{l+1}}, \\ \\forall j \\in \\overline{1, n_l}, \\ \\forall l \\in \\overline{1, L}$\n",
        "\n",
        "7. Итоговый ответ, как должны инициализироваться веса, описывается следующим образом:\n",
        "\n",
        "$\\begin{cases} \\mathbb{E}\\left[W_{ij}^l\\right] = 0, \\\\ \\mathbb{D}\\left[W_{ij}^l\\right] = \\dfrac{4}{n_l + n_{l+1}} \\end{cases} \\ \\ \\forall i \\in \\overline{1, n_{l+1}}, \\ \\forall j \\in \\overline{1, n_l}, \\ \\forall l \\in \\overline{1, L}$"
      ]
    },
    {
      "cell_type": "markdown",
      "metadata": {
        "id": "DdNXy3T9bO-e"
      },
      "source": [
        "### `Задание 3. Почему функция активации` $ReLU(y) = \\max(0, y)$ `предпочтительней сигмоиды` $\\sigma(y) = \\frac{1}{1 + \\exp(-y)}$ `в нейронных сетях? (0.5 балла)`"
      ]
    },
    {
      "cell_type": "markdown",
      "metadata": {
        "id": "BkTkx-jrbO-f"
      },
      "source": [
        "Дайте развернутый ответ на вопрос \"Почему функция активации $ReLU(y) = \\max(0, y)$ предпочтительней сигмоиды $\\sigma(y) = \\frac{1}{1 + \\exp(-y)}$ в нейронных сетях?\""
      ]
    },
    {
      "cell_type": "markdown",
      "metadata": {
        "id": "uTDflbqfbO-f"
      },
      "source": [
        "__Ваш ответ:__\n",
        "\n",
        "Причины, почему функция активации $ReLU$ предпочтительнее сигмоиды в нейронных сетях:\n",
        "\n",
        "1. Большие затраты на вычисление экспоненты, в то время как вычисление $ReLU$ требует лишь нахождение максимума двух чисел, что является практически элементарной операцией.\n",
        "2. Производная сигмоиды не превосходит $\\dfrac{1}{4}$, при этом на концах она близка к $0$. Есть лишь достаточно небольшой интервал значений, где она близка к $\\dfrac{1}{4}$. В глубоких нейронных сетях это будет большой проблемой в силу явления затухания градиента на $back-propagation$. Там производная сигмоиды возводится в $n$-ю степень при прохождении $n$ слоёв и умножается на градиент, из-за чего веса, близкие к началу нейронной сети будут обучаться слишком медленно, либо вообще перестанут обучаться, в чём, собственно, и заключается эффект затухания градиента. Если же рассматривать $ReLU(y)$, то $\\forall y > 0$ её производная постоянна и равна 1, что сильнее ослабляет эффект затухания или взрыва градиента именно от функции активации, хотя на отрицательной полупрямой проблема всё ещё остаётся, так как там производная этой функции равна нулю.\n",
        "3. Чтобы ослабить эффект затухания градиента с использованием сигмоиды необходимо центрировать входные значения, чтобы они после преобразования были в районе $0.5$, где производная сигмоиды \"достаточно\" отлична от нуля, в то время как $ReLU$ просто откидывает отрицательные значения, а при всех положительных её производная равна 1, что убирает необходимость специально центрировать входные данные.\n",
        "4. Также $ReLU$ может создавать эффект разреженности нейронной сети, так как при отрицательных значениях нейрон всегда будет выдавать значение, равное 0, что будет делать его неактивным в некоторых случаях и создавать эффект $DropOut$, который может помочь для уменьшения переобучения.\n"
      ]
    },
    {
      "cell_type": "markdown",
      "metadata": {
        "id": "Fdr6r7kpbO-f"
      },
      "source": [
        "---"
      ]
    },
    {
      "cell_type": "markdown",
      "metadata": {
        "id": "CxndwfQsbO-f"
      },
      "source": [
        "## `Практическая часть (7 баллов)`"
      ]
    },
    {
      "cell_type": "markdown",
      "metadata": {
        "id": "rHOr1-J8bO-f"
      },
      "source": [
        "### `Реализация нейронной сети (3 балла)`"
      ]
    },
    {
      "cell_type": "markdown",
      "metadata": {
        "id": "5GeKgcnRbO-g"
      },
      "source": [
        "В этом задании вы обучите полносвязную нейронную сеть распознавать рукописные цифры (а что же еще, если не их :), [почти] самостоятельно реализовав все составляющие алгоритма обучения и предсказания.\n",
        "\n",
        "Для начала нам понадобится реализовать прямой и обратный проход через слои. Наши слои будут соответствовать следующему интерфейсу (на примере \"тождественного\" слоя):"
      ]
    },
    {
      "cell_type": "code",
      "execution_count": 87,
      "metadata": {
        "id": "j8G3PZaAbO-g"
      },
      "outputs": [],
      "source": [
        "class IdentityLayer:\n",
        "    \"\"\"\n",
        "    A building block. Each layer is capable of performing two things:\n",
        "\n",
        "    - Process input to get output:\n",
        "    output = layer.forward(input)\n",
        "\n",
        "    - Propagate gradients through itself:\n",
        "    grad_input = layer.backward(input, grad_output)\n",
        "\n",
        "    Some layers also have learnable parameters.\n",
        "\n",
        "    Modified code from cs.hse DL course *\n",
        "    \"\"\"\n",
        "    def __init__(self):\n",
        "        \"\"\"\n",
        "        Here you can initialize layer parameters (if any)\n",
        "        and auxiliary stuff. You should enumerate all parameters\n",
        "        in self.params\n",
        "        \"\"\"\n",
        "        # An identity layer does nothing\n",
        "        self.params = []\n",
        "        pass\n",
        "\n",
        "    def forward(self, input):\n",
        "        \"\"\"\n",
        "        Takes input data of shape [batch, input_units],\n",
        "        returns output data [batch, output_units]\n",
        "        \"\"\"\n",
        "        # An identity layer just returns whatever it gets as input.\n",
        "        self.input = input\n",
        "        return input\n",
        "\n",
        "    def backward(self, grad_output):\n",
        "        \"\"\"\n",
        "        Performs a backpropagation step through the layer,\n",
        "        with respect to the given input.\n",
        "\n",
        "        To compute loss gradients w.r.t input,\n",
        "        you need to apply chain rule (backprop):\n",
        "\n",
        "        d `loss` / d `input` = (d `loss` / d `layer`) * (d `layer` / d `input`)\n",
        "\n",
        "        Luckily, you already receive d `loss` / d `layer` in argument,\n",
        "        so you only need to multiply it by d `layer` / d `input`.\n",
        "\n",
        "        NB: Sometimes d `layer` / d `input` can be a 3D or even 4D tensor.\n",
        "        So it's better to write down the `loss` differential and extract\n",
        "        d `layer` / d `input` from it so that only 2D tensors were present.\n",
        "\n",
        "        The method returns:\n",
        "        * gradient w.r.t input (will be passed to\n",
        "          previous layer's backward method)\n",
        "        * flattened gradient w.r.t. parameters (with .ravel()\n",
        "          applied to each gradient).\n",
        "          If there are no params, return []\n",
        "        \"\"\"\n",
        "        # The gradient of an identity layer is precisely grad_output\n",
        "        input_dim = self.input.shape[1]\n",
        "\n",
        "        d_layer_d_input = np.eye(input_dim)\n",
        "\n",
        "        return np.dot(grad_output, d_layer_d_input), np.array([]) # chain rule"
      ]
    },
    {
      "cell_type": "markdown",
      "metadata": {
        "id": "EnvuwTQnbO-g"
      },
      "source": [
        "#### `Слой нелинейности ReLU`"
      ]
    },
    {
      "cell_type": "markdown",
      "metadata": {
        "id": "zOir4q-HbO-g"
      },
      "source": [
        "Для начала реализуем слой нелинейности $ReLU(y) = \\max(0, y)$. Параметров у слоя нет. Метод `forward` должен вернуть результат поэлементного применения $ReLU$ к входному массиву, метод `backward` — градиент функции потерь по входу слоя. В нуле будем считать производную равной 0. Обратите внимание, что при обратном проходе могут понадобиться величины, посчитанные во время прямого прохода, поэтому их стоит сохранить как атрибут класса."
      ]
    },
    {
      "cell_type": "code",
      "execution_count": 88,
      "metadata": {
        "id": "BHlgTrLwbO-g"
      },
      "outputs": [],
      "source": [
        "class ReLU:\n",
        "    \"\"\"\n",
        "    Modified code from cs.hse DL course *\n",
        "    \"\"\"\n",
        "    def __init__(self):\n",
        "        \"\"\"ReLU layer simply applies elementwise rectified linear unit to all inputs\"\"\"\n",
        "        self.params = [] # ReLU has no parameters\n",
        "\n",
        "    def forward(self, input):\n",
        "        \"\"\"Apply elementwise ReLU to [batch, num_units] matrix\"\"\"\n",
        "        self.input = input\n",
        "        output = np.maximum(np.zeros_like(input), input)\n",
        "        return output\n",
        "\n",
        "    def backward(self, grad_output):\n",
        "        \"\"\"Compute gradient of loss w.r.t. ReLU input\n",
        "        grad_output shape: [batch, num_units]\n",
        "        output 1 shape: [batch, num_units]\n",
        "        output 2: []\n",
        "        \"\"\"\n",
        "        return grad_output * (self.input > 0).astype(int), np.array([]) # chain rule\n",
        "\n",
        "    def __repr__(self):\n",
        "        return 'Relu()'"
      ]
    },
    {
      "cell_type": "markdown",
      "metadata": {
        "id": "_ZA-MXvXbO-h"
      },
      "source": [
        "#### `Полносвязный слой`"
      ]
    },
    {
      "cell_type": "markdown",
      "metadata": {
        "id": "Vp_SeUPFbO-h"
      },
      "source": [
        "Далее реализуем полносвязный слой без нелинейности. У слоя два параметра: матрица весов и вектор сдвига.\n",
        "\n",
        "Обратите внимание на второй аргумент: в нем надо возвращать градиент по всем параметрам в одномерном виде. Для этого надо сначала применить `.ravel()` ко всем градиентам, а затем воспользоваться `np.r_`:"
      ]
    },
    {
      "cell_type": "code",
      "execution_count": 89,
      "metadata": {
        "colab": {
          "base_uri": "https://localhost:8080/"
        },
        "id": "LA-8pe6lbO-h",
        "outputId": "7fc975e6-55c5-4568-fa75-6d396a77cde2"
      },
      "outputs": [
        {
          "output_type": "execute_result",
          "data": {
            "text/plain": [
              "array([1., 0., 0., 0., 1., 0., 0., 0., 1., 0., 1., 2., 3.])"
            ]
          },
          "metadata": {},
          "execution_count": 89
        }
      ],
      "source": [
        "# example\n",
        "np.r_[np.eye(3).ravel(), np.arange(4)]"
      ]
    },
    {
      "cell_type": "code",
      "execution_count": 90,
      "metadata": {
        "id": "rUZ_bAVDbO-i"
      },
      "outputs": [],
      "source": [
        "class Dense:\n",
        "    \"\"\"\n",
        "    Modified code from cs.hse DL course *\n",
        "    \"\"\"\n",
        "    def __init__(self, input_units, output_units):\n",
        "        \"\"\"\n",
        "        A dense layer is a layer which performs a learned affine transformation:\n",
        "        f(x) = x W + b\n",
        "        \"\"\"\n",
        "        # initialize weights with small random numbers from normal distribution\n",
        "        self.weights = np.random.randn(input_units, output_units) * 0.01\n",
        "        self.biases = np.zeros(output_units)\n",
        "        self.params = [self.weights, self.biases]\n",
        "\n",
        "    def forward(self, input):\n",
        "        \"\"\"\n",
        "        Perform an affine transformation:\n",
        "        f(x) = x W + b\n",
        "\n",
        "        input shape: [batch, input_units]\n",
        "        output shape: [batch, output units]\n",
        "        \"\"\"\n",
        "        self.input = input\n",
        "        return input @ self.weights + self.biases\n",
        "\n",
        "    def backward(self, grad_output):\n",
        "        \"\"\"\n",
        "        compute gradients\n",
        "        grad_output shape: [batch, output_units]\n",
        "        output shapes: [batch, input_units], [num_params]\n",
        "\n",
        "        hint: use function np.r_\n",
        "        np.r_[np.arange(3), np.arange(3)] = [0, 1, 2, 0, 1, 2]\n",
        "        \"\"\"\n",
        "        d_loss_d_input = grad_output @ self.weights.T\n",
        "        grad_weights = self.input.T @ grad_output\n",
        "        grad_biases = np.sum(grad_output, axis=0)\n",
        "        return d_loss_d_input, np.r_[grad_weights.ravel(), grad_biases.ravel()]\n",
        "\n",
        "    def __repr__(self):\n",
        "        return f'Dense({self.weights.shape[0]}, {self.weights.shape[1]})'"
      ]
    },
    {
      "cell_type": "markdown",
      "metadata": {
        "id": "jBd_GdGebO-i"
      },
      "source": [
        "#### `Проверка градиента`"
      ]
    },
    {
      "cell_type": "markdown",
      "metadata": {
        "id": "YEKlQqBmbO-j"
      },
      "source": [
        "Проверим правильность реализации с помощью функции численной проверки градиента. Функция `eval_numerical_gradient` принимает на вход callable объект `f` (функцию от одного аргумента-матрицы) и аргумент `x` и вычисляет приближенный градиент функции `f` в точке `x`."
      ]
    },
    {
      "cell_type": "code",
      "execution_count": 91,
      "metadata": {
        "id": "_8y4HEfcbO-j"
      },
      "outputs": [],
      "source": [
        "def eval_numerical_gradient(f, x, verbose=False, h=0.00001):\n",
        "    \"\"\"\n",
        "    Evaluates gradient df/dx via finite differences:\n",
        "    df/dx ~ (f(x+h) - f(x-h)) / 2h\n",
        "    Adopted from https://github.com/ddtm/dl-course/\n",
        "    \"\"\"\n",
        "    fx = f(x) # evaluate function value at original point\n",
        "    grad = np.zeros_like(x)\n",
        "    # iterate over all indexes in x\n",
        "    it = np.nditer(x, flags=['multi_index'], op_flags=['readwrite'])\n",
        "    while not it.finished:\n",
        "\n",
        "        # evaluate function at x+h\n",
        "        ix = it.multi_index\n",
        "        oldval = x[ix]\n",
        "        x[ix] = oldval + h # increment by h\n",
        "        fxph = f(x) # evalute f(x + h)\n",
        "        x[ix] = oldval - h\n",
        "        fxmh = f(x) # evaluate f(x - h)\n",
        "        x[ix] = oldval # restore\n",
        "\n",
        "        # compute the partial derivative with centered formula\n",
        "        grad[ix] = (fxph - fxmh) / (2 * h) # the slope\n",
        "        if verbose:\n",
        "            print (ix, grad[ix])\n",
        "        it.iternext() # step to next dimension\n",
        "\n",
        "    return grad"
      ]
    },
    {
      "cell_type": "markdown",
      "metadata": {
        "id": "WCFZevpobO-j"
      },
      "source": [
        "Вычислите аналитический и численный градиенты по входу слоя ReLU от функции\n",
        "$$ f(y) = \\sum_i y_i, \\quad y = ReLU(x) $$\n",
        "\n",
        "Выпишите аналитический градиент в этой ячейке:\n",
        "\n",
        "$\\nabla_{x}f = \\sum_i \\nabla_x y_i = \\sum_i (0, \\ldots, 0, \\underbrace{[x_i > 0]}_{i}, 0, \\ldots, 0) = ([x_1 > 0], \\ldots, [x_{out} > 0])$"
      ]
    },
    {
      "cell_type": "markdown",
      "metadata": {
        "id": "kE-2qUljbO-j"
      },
      "source": [
        "Следующая ячейка после заполнения должна не выдавать ошибку :)"
      ]
    },
    {
      "cell_type": "code",
      "execution_count": 92,
      "metadata": {
        "id": "g36Hfwx8bO-j"
      },
      "outputs": [],
      "source": [
        "relu = ReLU()\n",
        "points = np.linspace(-1, 1, 10*12).reshape([10, 12])\n",
        "\n",
        "### your code here\n",
        "relu.forward(points)\n",
        "grads, _ = relu.backward(np.ones((10, 12)))\n",
        "\n",
        "f = lambda x: np.sum(relu.forward(x), axis=0)\n",
        "numeric_grads = np.zeros_like(grads)\n",
        "\n",
        "for row in np.arange(numeric_grads.shape[0]):\n",
        "    numeric_grads[row] = eval_numerical_gradient(f, points[row])\n",
        "\n",
        "assert np.allclose(grads, numeric_grads, rtol=1e-3, atol=0)"
      ]
    },
    {
      "cell_type": "markdown",
      "metadata": {
        "id": "IYabi8lWbO-k"
      },
      "source": [
        "Вычислите аналитический и численный градиенты по входу полносвязного слоя от функции\n",
        "$$ f(y) = \\sum_i y_i, \\quad y = W x + b $$\n",
        "\n",
        "Выпишите аналитический градиент в этой ячейке (советуем выписать градиент через дифференциал функции $f$):\n",
        "\n",
        "В реализованном слое используется формула $y = x W + b$, что отражает следующую нотацию: $w_{ij}$ - вес $i$-го объекта с $j$-м выходом. Градиент будет посчитан именно для неё.\n",
        "\n",
        "$df = \\sum_i dy_i = \\sum_i \\sum_k dx_k w_{ki} = \\sum_k dx_k \\sum_i w_{ki} = \\left< (\\sum_i w_{1i}, \\ \\ldots, \\ \\sum_i w_{input, \\ i} ), \\: dx\\right> \\Rightarrow \\nabla_xf = (\\sum_i w_{1i}, \\ \\ldots, \\ \\sum_i w_{input, \\ i} ) = W \\cdot \\bar{\\mathbb{1}}$\n",
        "\n",
        "Для $y = W x + b$ будет $W ^ T \\cdot \\bar{\\mathbb{1}}$"
      ]
    },
    {
      "cell_type": "markdown",
      "metadata": {
        "id": "eNT24lkfbO-k"
      },
      "source": [
        "Следующая ячейка после заполнения должна не выдавать ошибку :)"
      ]
    },
    {
      "cell_type": "code",
      "execution_count": 93,
      "metadata": {
        "id": "Pe8QK385bO-k"
      },
      "outputs": [],
      "source": [
        "linear = Dense(12, 32)\n",
        "points = np.linspace(-1, 1, 10*12).reshape([10, 12])\n",
        "\n",
        "### your code here\n",
        "linear.forward(points)\n",
        "grads , _ = linear.backward(np.ones((10, 32)))\n",
        "\n",
        "f = lambda x: np.sum(linear.forward(x), axis=0)\n",
        "numeric_grads = np.zeros_like(grads)\n",
        "\n",
        "for row in np.arange(numeric_grads.shape[0]):\n",
        "    numeric_grads[row] = eval_numerical_gradient(f, points[row])\n",
        "\n",
        "assert np.allclose(grads, numeric_grads, rtol=1e-3, atol=0)"
      ]
    },
    {
      "cell_type": "markdown",
      "metadata": {
        "id": "qFD9I7ZJbO-k"
      },
      "source": [
        "#### `Реализация softmax-слоя и функции потерь`"
      ]
    },
    {
      "cell_type": "markdown",
      "metadata": {
        "id": "zEV2KO-_bO-l"
      },
      "source": [
        "Для решения задачи многоклассовой классификации обычно используют $softmax$ в качестве нелинейности на последнем слое, чтобы получить вероятности классов для каждого объекта:\n",
        "$$\\hat y = softmax(x)  = \\left \\{\\frac {\\exp(x^i)}{\\sum_{j=1}^K \\exp(x^j)} \\right \\}_{i=1}^K, \\quad K - \\text{число классов.}$$\n",
        "\n",
        "Здесь за $x^i$ мы обозначаем $i$-ый признак объекта $x$.\n",
        "\n",
        "В качестве функции потерь выберем отрицательный логарифм правдоподобия (по английски: negative log likelihood или NLL)\n",
        "$$L(y, \\hat y) = -\\sum_{i=1}^K y^i \\log \\hat y^i,$$\n",
        "где $y^i = 1$, если объект принадлежит $i$-му классу, и $y^i = 0$ иначе.\n",
        "\n",
        "NLL совпадает с выражением для [кросс-энтропии](https://ru.wikipedia.org/wiki/Перекрёстная_энтропия) (в качестве первого распределения берем вырожденное распределение $y$, в качестве второго — предсказанное распределение $\\hat y$). Очевидно, что эту функцию потерь также можно переписать через индексацию, если через $y$ обозначить класс данного объекта:\n",
        "$$L(y, \\hat y) = - \\log \\hat y_{y}$$\n",
        "\n",
        "В таком виде ее удобно реализовывать."
      ]
    },
    {
      "cell_type": "markdown",
      "metadata": {
        "id": "m-Zuu1wFbO-l"
      },
      "source": [
        "Для обучения нейронной сети будем оптимизировать эту функцию потерь по параметрам нейронной сети:\n",
        "\n",
        "$$ \\frac1N \\sum_{i=1}^N L(y_i, \\hat y_i) = \\frac1N \\sum_{i=1}^N L(y_i, \\text{NN}(x_i)) \\rightarrow \\min_{w}\\,,$$\n",
        "где за $x_i$ и $y_i$ мы обозначили признаки и таргет $i$-ого объекта обучающей выборки, за $\\text{NN}$ мы обозначили нейронную сеть, которая по признакам объекта $x_i$ выдает распределение вероятностей $\\hat y_i$, за $w$ мы обозначили все веса нейронной сети, а $N$ — это число объектов в обучающей выборке."
      ]
    },
    {
      "cell_type": "markdown",
      "metadata": {
        "id": "p4SWL4C5bO-l"
      },
      "source": [
        "Реализуйте слой `LogSoftmax` (у этого слоя нет параметров). Метод `forward` должен вычислять логарифм от $softmax$, а метод `backward` — пропускать градиенты. В общем случае в промежуточных вычислениях `backward` получится трехмерный тензор, однако для нашей конкретной функции потерь все вычисления можно реализовать в матричном виде.  Поэтому мы будем предполагать, что аргумент `grad_output` — это матрица, у которой в каждой строке только одно ненулевое значение (не обязательно единица).\n",
        "\n",
        "**Пожелание.** Постарайтесь максимально упростить формулу градиентов, чтобы получился лаконичный и стабильный код. Большие и страшные реализации часто оказываются нестабильными."
      ]
    },
    {
      "cell_type": "code",
      "execution_count": 94,
      "metadata": {
        "id": "h7rJNaAmbO-l"
      },
      "outputs": [],
      "source": [
        "from scipy.special import logsumexp\n",
        "# use this function instead of np.log(np.sum(np.exp(...))) because it is more stable"
      ]
    },
    {
      "cell_type": "code",
      "execution_count": 95,
      "metadata": {
        "id": "_4GgAyj6bO-x"
      },
      "outputs": [],
      "source": [
        "class LogSoftmax:\n",
        "    def __init__(self):\n",
        "        self.params = []\n",
        "\n",
        "    def softmax(self, input, axis=-1):\n",
        "        \"\"\"\n",
        "        Applies softmax to each row\n",
        "        Input shape: [batch, num_units]\n",
        "        Output shape: [batch, num_units]\n",
        "        \"\"\"\n",
        "        shifted_input = input - np.max(input, axis=1, keepdims=True)\n",
        "        output = np.exp(shifted_input) / np.sum(np.exp(shifted_input), axis=axis, keepdims=True)\n",
        "        return output\n",
        "\n",
        "    def forward(self, input):\n",
        "        \"\"\"\n",
        "        Applies softmax to each row and then applies component-wise log\n",
        "        Input shape: [batch, num_units]\n",
        "        Output shape: [batch, num_units]\n",
        "        \"\"\"\n",
        "        self.input = input\n",
        "        output = input - logsumexp(input, axis=1).reshape(-1, 1)\n",
        "        return output\n",
        "\n",
        "    def backward(self, grad_output):\n",
        "        \"\"\"\n",
        "        Propagartes gradients.\n",
        "        Assumes that each row of grad_output contains only 1\n",
        "        non-zero element\n",
        "        Input shape: [batch, num_units]\n",
        "        Output shape: [batch, num_units]\n",
        "        Do not forget to return [] as second value (grad w.r.t. params)\n",
        "        \"\"\"\n",
        "        return grad_output - np.sum(grad_output, axis=1).reshape(-1, 1) * self.softmax(self.input, axis=1), np.array([])\n",
        "\n",
        "    def __repr__(self):\n",
        "        return 'LogSoftmax()'"
      ]
    },
    {
      "cell_type": "markdown",
      "metadata": {
        "id": "EEPMGB50bO-x"
      },
      "source": [
        "Реализуйте функцию потерь и градиенты функции потерь. Во время вычисления NLL усредняйте (а не суммируйте) значения функции потерь по батчу. Обычно так делают для того, чтобы при двух запусках обучения нейронной сети с разными размерами батча получаемые значения функции потерь у этих сетей были сравнимы."
      ]
    },
    {
      "cell_type": "code",
      "execution_count": 96,
      "metadata": {
        "id": "sfx5qx-CbO-y"
      },
      "outputs": [],
      "source": [
        "def NLL(activations, target):\n",
        "    \"\"\"\n",
        "    Returns negative log-likelihood of target under model represented by\n",
        "    activations (log probabilities of classes, it's just output of LogSoftmax layer).\n",
        "    `activations` has shape [batch, num_classes], `target` has shape [batch]\n",
        "    Output shape: 1 (scalar).\n",
        "    \"\"\"\n",
        "    return np.sum(activations[np.arange(target.shape[0]), target], axis=0) / (-target.shape[0])\n",
        "\n",
        "def grad_NLL(activations, target):\n",
        "    \"\"\"\n",
        "    Returns gradient of negative log-likelihood w.r.t. activations.\n",
        "    each arg has shape [batch, num_classes]\n",
        "    output shape: [batch, num-classes]\n",
        "    \"\"\"\n",
        "    return target / (-target.shape[0])"
      ]
    },
    {
      "cell_type": "markdown",
      "metadata": {
        "id": "1zCMjmYbbO-y"
      },
      "source": [
        "Наконец, выполните проверку `LogSoftmax`-слоя, используя функцию потерь и ее градиент:"
      ]
    },
    {
      "cell_type": "code",
      "execution_count": 97,
      "metadata": {
        "id": "G3_63yBJTeR9"
      },
      "outputs": [],
      "source": [
        "def target_mask(target, num_classes):\n",
        "    target_mask = np.zeros((target.shape[0], num_classes))\n",
        "    target_mask[np.arange(target.shape[0]), target] = 1\n",
        "    return target_mask"
      ]
    },
    {
      "cell_type": "code",
      "execution_count": 98,
      "metadata": {
        "id": "UXmH6CGsbO-y"
      },
      "outputs": [],
      "source": [
        "n = 50\n",
        "d = 10\n",
        "lsm = LogSoftmax()\n",
        "target = np.random.choice(d, size=n)\n",
        "points = np.random.uniform(-1, 1, n*d).reshape([n, d])\n",
        "\n",
        "### your code here\n",
        "mask = target_mask(target, d)\n",
        "\n",
        "activations = lsm.forward(points)\n",
        "grads, _ = lsm.backward(grad_NLL(activations, mask))\n",
        "\n",
        "f = lambda x: NLL(lsm.forward(x), target)\n",
        "numeric_grads = eval_numerical_gradient(f, points)\n",
        "\n",
        "assert np.allclose(grads, numeric_grads, rtol=1e-3, atol=0)"
      ]
    },
    {
      "cell_type": "markdown",
      "metadata": {
        "id": "plnBxyIjbO-y"
      },
      "source": [
        "### `Загрузка данных`"
      ]
    },
    {
      "cell_type": "markdown",
      "metadata": {
        "id": "4em5ArCAbO-y"
      },
      "source": [
        "Мы реализаовали все архитектурные составляющие нашей нейронной сети. Осталось загрузить данные и обучить модель. Мы будем работать с датасетом `digits`, каждый объект в котором — это 8x8 изображение рукописной цифры."
      ]
    },
    {
      "cell_type": "code",
      "execution_count": 99,
      "metadata": {
        "id": "MJZ0uyZ7bO-z"
      },
      "outputs": [],
      "source": [
        "import matplotlib.pyplot as plt\n",
        "%matplotlib inline"
      ]
    },
    {
      "cell_type": "code",
      "execution_count": 100,
      "metadata": {
        "id": "b7it4PiGbO-z"
      },
      "outputs": [],
      "source": [
        "from sklearn.datasets import load_digits"
      ]
    },
    {
      "cell_type": "code",
      "execution_count": 101,
      "metadata": {
        "id": "3_bjoSc1bO-z"
      },
      "outputs": [],
      "source": [
        "X, y = load_digits(return_X_y=True)"
      ]
    },
    {
      "cell_type": "code",
      "execution_count": 102,
      "metadata": {
        "colab": {
          "base_uri": "https://localhost:8080/"
        },
        "id": "vxmwCngUbO-z",
        "outputId": "7aa294e7-99a4-4815-a934-6842b39cc393"
      },
      "outputs": [
        {
          "output_type": "execute_result",
          "data": {
            "text/plain": [
              "((1797, 64), (1797,))"
            ]
          },
          "metadata": {},
          "execution_count": 102
        }
      ],
      "source": [
        "X.shape, y.shape"
      ]
    },
    {
      "cell_type": "markdown",
      "metadata": {
        "id": "wPG1QK3zbO-0"
      },
      "source": [
        "Разделим данные на обучение и контроль:"
      ]
    },
    {
      "cell_type": "code",
      "execution_count": 103,
      "metadata": {
        "id": "W-OvNm6IbO-0"
      },
      "outputs": [],
      "source": [
        "from sklearn.model_selection import train_test_split"
      ]
    },
    {
      "cell_type": "code",
      "execution_count": 104,
      "metadata": {
        "id": "f1vUuG-WbO-0"
      },
      "outputs": [],
      "source": [
        "X_train, X_test, y_train, y_test = train_test_split(X, y, random_state=0)"
      ]
    },
    {
      "cell_type": "code",
      "execution_count": 105,
      "metadata": {
        "colab": {
          "base_uri": "https://localhost:8080/"
        },
        "id": "jMyPySrsbO-0",
        "outputId": "5f9d4b4c-cbe1-478c-aa2d-f78a7cba2605"
      },
      "outputs": [
        {
          "output_type": "execute_result",
          "data": {
            "text/plain": [
              "((1347, 64), (450, 64))"
            ]
          },
          "metadata": {},
          "execution_count": 105
        }
      ],
      "source": [
        "X_train.shape, X_test.shape"
      ]
    },
    {
      "cell_type": "markdown",
      "metadata": {
        "id": "k-WFogO9bO-1"
      },
      "source": [
        "### `Сборка и обучение нейронной сети (0.8 балла)`"
      ]
    },
    {
      "cell_type": "markdown",
      "metadata": {
        "id": "ObWxPeBZbO-1"
      },
      "source": [
        "В нашей реализации мы представляем нейронную сеть в виде списка ее слоев. Например, следующая функция конструирует нейронную сеть заданной ширины (то есть с заданным размером скрытых слоев) и глубины (то есть с заданным количеством слоев) с заданным размером входа и выхода, а также с заданной функцией активации между линейными слоями."
      ]
    },
    {
      "cell_type": "code",
      "execution_count": 106,
      "metadata": {
        "id": "fmRM1cVybO-1"
      },
      "outputs": [],
      "source": [
        "def make_network(input_size, hidden_layers_size, output_size, n_layers=3, activation_class=ReLU):\n",
        "    network = []\n",
        "\n",
        "    for layer_idx in range(n_layers):\n",
        "        # Compute sizes of current linear layer\n",
        "        layer_in = input_size if layer_idx == 0 else hidden_layers_size\n",
        "        layer_out = output_size if layer_idx == n_layers - 1 else hidden_layers_size\n",
        "\n",
        "        # Add linear layer to the network\n",
        "        network.append(Dense(layer_in, layer_out))\n",
        "\n",
        "        # Add activation after each layer except the last one\n",
        "        if layer_idx != n_layers - 1:\n",
        "            network.append(activation_class())\n",
        "\n",
        "    # Add LogSoftmax layer to the network\n",
        "    network.append(LogSoftmax())\n",
        "\n",
        "    return network"
      ]
    },
    {
      "cell_type": "code",
      "execution_count": 107,
      "metadata": {
        "colab": {
          "base_uri": "https://localhost:8080/"
        },
        "id": "tdYnbxKAbO-2",
        "outputId": "9f144a42-d579-49e0-9bca-6b889469b48f"
      },
      "outputs": [
        {
          "output_type": "execute_result",
          "data": {
            "text/plain": [
              "[Dense(64, 32), Relu(), Dense(32, 32), Relu(), Dense(32, 10), LogSoftmax()]"
            ]
          },
          "metadata": {},
          "execution_count": 107
        }
      ],
      "source": [
        "input_size = X_train.shape[1]\n",
        "hidden_layers_size = 32\n",
        "output_size = 10\n",
        "\n",
        "network = make_network(input_size, hidden_layers_size, output_size, 3, ReLU)\n",
        "network"
      ]
    },
    {
      "cell_type": "markdown",
      "metadata": {
        "id": "Y-GPNe8bbO-2"
      },
      "source": [
        "Реализуйте функцию, которая выполнет прямой проход по нейронной сети:"
      ]
    },
    {
      "cell_type": "code",
      "execution_count": 108,
      "metadata": {
        "id": "Z2wQeJcMbO-2"
      },
      "outputs": [],
      "source": [
        "def forward(network, X):\n",
        "    \"\"\"\n",
        "    Perform forward pass through the network.\n",
        "\n",
        "    network: list of layers\n",
        "    X: raw data\n",
        "    X shape: [batch, features_num]\n",
        "\n",
        "    output:\n",
        "    output shape: [batch, out_features_num]\n",
        "    \"\"\"\n",
        "    current_data = X.copy()\n",
        "    for layer in network:\n",
        "        current_data = layer.forward(current_data)\n",
        "    return current_data"
      ]
    },
    {
      "cell_type": "markdown",
      "metadata": {
        "id": "N1VMxB9lM0pl"
      },
      "source": [
        "Дополнительная реализация обратного прохода"
      ]
    },
    {
      "cell_type": "code",
      "execution_count": 109,
      "metadata": {
        "id": "IR4W285aM0J3"
      },
      "outputs": [],
      "source": [
        "def backward(network, grad_loss):\n",
        "    \"\"\"\n",
        "    Perform backward pass through the network.\n",
        "\n",
        "    network: list of layers\n",
        "    grad_loss: loss gradient w.r.t. network output\n",
        "    grad_loss shape: [batch, num_classes]\n",
        "\n",
        "    output: gradient\n",
        "    output shape: [batch, num_params]\n",
        "    \"\"\"\n",
        "    current_grad = grad_loss.copy()\n",
        "    output = []\n",
        "    for layer in network[::-1]:\n",
        "        current_grad, grad_params = layer.backward(current_grad)\n",
        "        output = grad_params.tolist() + output\n",
        "    return np.array(output)"
      ]
    },
    {
      "cell_type": "markdown",
      "metadata": {
        "id": "_6NmsJxvbO-2"
      },
      "source": [
        "Для проверки, хорошо ли сеть обучилась, нам понадобится вычислять долю правильных ответов (accuracy) на данной выборке. Для этого реализуйте функцию, которая делает предсказания на каждом объекте (логично в качестве предсказания на очередном объекте выдавать тот класс, для которого предсказанный логарифм вероятности максимален):"
      ]
    },
    {
      "cell_type": "code",
      "execution_count": 110,
      "metadata": {
        "id": "NolH2KwRbO-3"
      },
      "outputs": [],
      "source": [
        "def predict(network, X):\n",
        "    \"\"\"\n",
        "    Returns predictions for each object in X.\n",
        "\n",
        "    network: list of layers\n",
        "    X: raw data\n",
        "    X shape: [batch, features_num]\n",
        "\n",
        "    output: array of classes, each from 0 to 9\n",
        "    output shape: [batch]\n",
        "    \"\"\"\n",
        "    return np.argmax(forward(network, X), axis=1)"
      ]
    },
    {
      "cell_type": "markdown",
      "metadata": {
        "id": "1xDIYNZDbO-3"
      },
      "source": [
        "Мы будем обучать параметры нейросети с помощью готовой функции оптимизации из модуля `scipy`:"
      ]
    },
    {
      "cell_type": "code",
      "execution_count": 111,
      "metadata": {
        "id": "0hYL9W27bO-3"
      },
      "outputs": [],
      "source": [
        "from scipy.optimize import minimize"
      ]
    },
    {
      "cell_type": "code",
      "execution_count": 112,
      "metadata": {
        "colab": {
          "base_uri": "https://localhost:8080/"
        },
        "id": "Gz3Ke4KEbO-3",
        "outputId": "37765748-4e87-4fd5-8fd5-5c5da50cc6cb",
        "scrolled": true
      },
      "outputs": [
        {
          "output_type": "stream",
          "name": "stdout",
          "text": [
            "Help on function minimize in module scipy.optimize._minimize:\n",
            "\n",
            "minimize(fun, x0, args=(), method=None, jac=None, hess=None, hessp=None, bounds=None, constraints=(), tol=None, callback=None, options=None)\n",
            "    Minimization of scalar function of one or more variables.\n",
            "    \n",
            "    Parameters\n",
            "    ----------\n",
            "    fun : callable\n",
            "        The objective function to be minimized.\n",
            "    \n",
            "            ``fun(x, *args) -> float``\n",
            "    \n",
            "        where ``x`` is a 1-D array with shape (n,) and ``args``\n",
            "        is a tuple of the fixed parameters needed to completely\n",
            "        specify the function.\n",
            "    x0 : ndarray, shape (n,)\n",
            "        Initial guess. Array of real elements of size (n,),\n",
            "        where ``n`` is the number of independent variables.\n",
            "    args : tuple, optional\n",
            "        Extra arguments passed to the objective function and its\n",
            "        derivatives (`fun`, `jac` and `hess` functions).\n",
            "    method : str or callable, optional\n",
            "        Type of solver.  Should be one of\n",
            "    \n",
            "            - 'Nelder-Mead' :ref:`(see here) <optimize.minimize-neldermead>`\n",
            "            - 'Powell'      :ref:`(see here) <optimize.minimize-powell>`\n",
            "            - 'CG'          :ref:`(see here) <optimize.minimize-cg>`\n",
            "            - 'BFGS'        :ref:`(see here) <optimize.minimize-bfgs>`\n",
            "            - 'Newton-CG'   :ref:`(see here) <optimize.minimize-newtoncg>`\n",
            "            - 'L-BFGS-B'    :ref:`(see here) <optimize.minimize-lbfgsb>`\n",
            "            - 'TNC'         :ref:`(see here) <optimize.minimize-tnc>`\n",
            "            - 'COBYLA'      :ref:`(see here) <optimize.minimize-cobyla>`\n",
            "            - 'SLSQP'       :ref:`(see here) <optimize.minimize-slsqp>`\n",
            "            - 'trust-constr':ref:`(see here) <optimize.minimize-trustconstr>`\n",
            "            - 'dogleg'      :ref:`(see here) <optimize.minimize-dogleg>`\n",
            "            - 'trust-ncg'   :ref:`(see here) <optimize.minimize-trustncg>`\n",
            "            - 'trust-exact' :ref:`(see here) <optimize.minimize-trustexact>`\n",
            "            - 'trust-krylov' :ref:`(see here) <optimize.minimize-trustkrylov>`\n",
            "            - custom - a callable object, see below for description.\n",
            "    \n",
            "        If not given, chosen to be one of ``BFGS``, ``L-BFGS-B``, ``SLSQP``,\n",
            "        depending on whether or not the problem has constraints or bounds.\n",
            "    jac : {callable,  '2-point', '3-point', 'cs', bool}, optional\n",
            "        Method for computing the gradient vector. Only for CG, BFGS,\n",
            "        Newton-CG, L-BFGS-B, TNC, SLSQP, dogleg, trust-ncg, trust-krylov,\n",
            "        trust-exact and trust-constr.\n",
            "        If it is a callable, it should be a function that returns the gradient\n",
            "        vector:\n",
            "    \n",
            "            ``jac(x, *args) -> array_like, shape (n,)``\n",
            "    \n",
            "        where ``x`` is an array with shape (n,) and ``args`` is a tuple with\n",
            "        the fixed parameters. If `jac` is a Boolean and is True, `fun` is\n",
            "        assumed to return a tuple ``(f, g)`` containing the objective\n",
            "        function and the gradient.\n",
            "        Methods 'Newton-CG', 'trust-ncg', 'dogleg', 'trust-exact', and\n",
            "        'trust-krylov' require that either a callable be supplied, or that\n",
            "        `fun` return the objective and gradient.\n",
            "        If None or False, the gradient will be estimated using 2-point finite\n",
            "        difference estimation with an absolute step size.\n",
            "        Alternatively, the keywords  {'2-point', '3-point', 'cs'} can be used\n",
            "        to select a finite difference scheme for numerical estimation of the\n",
            "        gradient with a relative step size. These finite difference schemes\n",
            "        obey any specified `bounds`.\n",
            "    hess : {callable, '2-point', '3-point', 'cs', HessianUpdateStrategy}, optional\n",
            "        Method for computing the Hessian matrix. Only for Newton-CG, dogleg,\n",
            "        trust-ncg, trust-krylov, trust-exact and trust-constr.\n",
            "        If it is callable, it should return the Hessian matrix:\n",
            "    \n",
            "            ``hess(x, *args) -> {LinearOperator, spmatrix, array}, (n, n)``\n",
            "    \n",
            "        where ``x`` is a (n,) ndarray and ``args`` is a tuple with the fixed\n",
            "        parameters.\n",
            "        The keywords {'2-point', '3-point', 'cs'} can also be used to select\n",
            "        a finite difference scheme for numerical estimation of the hessian.\n",
            "        Alternatively, objects implementing the `HessianUpdateStrategy`\n",
            "        interface can be used to approximate the Hessian. Available\n",
            "        quasi-Newton methods implementing this interface are:\n",
            "    \n",
            "            - `BFGS`;\n",
            "            - `SR1`.\n",
            "    \n",
            "        Not all of the options are available for each of the methods; for\n",
            "        availability refer to the notes.\n",
            "    hessp : callable, optional\n",
            "        Hessian of objective function times an arbitrary vector p. Only for\n",
            "        Newton-CG, trust-ncg, trust-krylov, trust-constr.\n",
            "        Only one of `hessp` or `hess` needs to be given. If `hess` is\n",
            "        provided, then `hessp` will be ignored. `hessp` must compute the\n",
            "        Hessian times an arbitrary vector:\n",
            "    \n",
            "            ``hessp(x, p, *args) ->  ndarray shape (n,)``\n",
            "    \n",
            "        where ``x`` is a (n,) ndarray, ``p`` is an arbitrary vector with\n",
            "        dimension (n,) and ``args`` is a tuple with the fixed\n",
            "        parameters.\n",
            "    bounds : sequence or `Bounds`, optional\n",
            "        Bounds on variables for Nelder-Mead, L-BFGS-B, TNC, SLSQP, Powell,\n",
            "        trust-constr, and COBYLA methods. There are two ways to specify the\n",
            "        bounds:\n",
            "    \n",
            "            1. Instance of `Bounds` class.\n",
            "            2. Sequence of ``(min, max)`` pairs for each element in `x`. None\n",
            "               is used to specify no bound.\n",
            "    \n",
            "    constraints : {Constraint, dict} or List of {Constraint, dict}, optional\n",
            "        Constraints definition. Only for COBYLA, SLSQP and trust-constr.\n",
            "    \n",
            "        Constraints for 'trust-constr' are defined as a single object or a\n",
            "        list of objects specifying constraints to the optimization problem.\n",
            "        Available constraints are:\n",
            "    \n",
            "            - `LinearConstraint`\n",
            "            - `NonlinearConstraint`\n",
            "    \n",
            "        Constraints for COBYLA, SLSQP are defined as a list of dictionaries.\n",
            "        Each dictionary with fields:\n",
            "    \n",
            "            type : str\n",
            "                Constraint type: 'eq' for equality, 'ineq' for inequality.\n",
            "            fun : callable\n",
            "                The function defining the constraint.\n",
            "            jac : callable, optional\n",
            "                The Jacobian of `fun` (only for SLSQP).\n",
            "            args : sequence, optional\n",
            "                Extra arguments to be passed to the function and Jacobian.\n",
            "    \n",
            "        Equality constraint means that the constraint function result is to\n",
            "        be zero whereas inequality means that it is to be non-negative.\n",
            "        Note that COBYLA only supports inequality constraints.\n",
            "    tol : float, optional\n",
            "        Tolerance for termination. When `tol` is specified, the selected\n",
            "        minimization algorithm sets some relevant solver-specific tolerance(s)\n",
            "        equal to `tol`. For detailed control, use solver-specific\n",
            "        options.\n",
            "    options : dict, optional\n",
            "        A dictionary of solver options. All methods except `TNC` accept the\n",
            "        following generic options:\n",
            "    \n",
            "            maxiter : int\n",
            "                Maximum number of iterations to perform. Depending on the\n",
            "                method each iteration may use several function evaluations.\n",
            "    \n",
            "                For `TNC` use `maxfun` instead of `maxiter`.\n",
            "            disp : bool\n",
            "                Set to True to print convergence messages.\n",
            "    \n",
            "        For method-specific options, see :func:`show_options()`.\n",
            "    callback : callable, optional\n",
            "        A callable called after each iteration.\n",
            "    \n",
            "        All methods except TNC, SLSQP, and COBYLA support a callable with\n",
            "        the signature:\n",
            "    \n",
            "            ``callback(OptimizeResult: intermediate_result)``\n",
            "    \n",
            "        where ``intermediate_result`` is a keyword parameter containing an\n",
            "        `OptimizeResult` with attributes ``x`` and ``fun``, the present values\n",
            "        of the parameter vector and objective function. Note that the name\n",
            "        of the parameter must be ``intermediate_result`` for the callback\n",
            "        to be passed an `OptimizeResult`. These methods will also terminate if\n",
            "        the callback raises ``StopIteration``.\n",
            "    \n",
            "        All methods except trust-constr (also) support a signature like:\n",
            "    \n",
            "            ``callback(xk)``\n",
            "    \n",
            "        where ``xk`` is the current parameter vector.\n",
            "    \n",
            "        Introspection is used to determine which of the signatures above to\n",
            "        invoke.\n",
            "    \n",
            "    Returns\n",
            "    -------\n",
            "    res : OptimizeResult\n",
            "        The optimization result represented as a ``OptimizeResult`` object.\n",
            "        Important attributes are: ``x`` the solution array, ``success`` a\n",
            "        Boolean flag indicating if the optimizer exited successfully and\n",
            "        ``message`` which describes the cause of the termination. See\n",
            "        `OptimizeResult` for a description of other attributes.\n",
            "    \n",
            "    See also\n",
            "    --------\n",
            "    minimize_scalar : Interface to minimization algorithms for scalar\n",
            "        univariate functions\n",
            "    show_options : Additional options accepted by the solvers\n",
            "    \n",
            "    Notes\n",
            "    -----\n",
            "    This section describes the available solvers that can be selected by the\n",
            "    'method' parameter. The default method is *BFGS*.\n",
            "    \n",
            "    **Unconstrained minimization**\n",
            "    \n",
            "    Method :ref:`CG <optimize.minimize-cg>` uses a nonlinear conjugate\n",
            "    gradient algorithm by Polak and Ribiere, a variant of the\n",
            "    Fletcher-Reeves method described in [5]_ pp.120-122. Only the\n",
            "    first derivatives are used.\n",
            "    \n",
            "    Method :ref:`BFGS <optimize.minimize-bfgs>` uses the quasi-Newton\n",
            "    method of Broyden, Fletcher, Goldfarb, and Shanno (BFGS) [5]_\n",
            "    pp. 136. It uses the first derivatives only. BFGS has proven good\n",
            "    performance even for non-smooth optimizations. This method also\n",
            "    returns an approximation of the Hessian inverse, stored as\n",
            "    `hess_inv` in the OptimizeResult object.\n",
            "    \n",
            "    Method :ref:`Newton-CG <optimize.minimize-newtoncg>` uses a\n",
            "    Newton-CG algorithm [5]_ pp. 168 (also known as the truncated\n",
            "    Newton method). It uses a CG method to the compute the search\n",
            "    direction. See also *TNC* method for a box-constrained\n",
            "    minimization with a similar algorithm. Suitable for large-scale\n",
            "    problems.\n",
            "    \n",
            "    Method :ref:`dogleg <optimize.minimize-dogleg>` uses the dog-leg\n",
            "    trust-region algorithm [5]_ for unconstrained minimization. This\n",
            "    algorithm requires the gradient and Hessian; furthermore the\n",
            "    Hessian is required to be positive definite.\n",
            "    \n",
            "    Method :ref:`trust-ncg <optimize.minimize-trustncg>` uses the\n",
            "    Newton conjugate gradient trust-region algorithm [5]_ for\n",
            "    unconstrained minimization. This algorithm requires the gradient\n",
            "    and either the Hessian or a function that computes the product of\n",
            "    the Hessian with a given vector. Suitable for large-scale problems.\n",
            "    \n",
            "    Method :ref:`trust-krylov <optimize.minimize-trustkrylov>` uses\n",
            "    the Newton GLTR trust-region algorithm [14]_, [15]_ for unconstrained\n",
            "    minimization. This algorithm requires the gradient\n",
            "    and either the Hessian or a function that computes the product of\n",
            "    the Hessian with a given vector. Suitable for large-scale problems.\n",
            "    On indefinite problems it requires usually less iterations than the\n",
            "    `trust-ncg` method and is recommended for medium and large-scale problems.\n",
            "    \n",
            "    Method :ref:`trust-exact <optimize.minimize-trustexact>`\n",
            "    is a trust-region method for unconstrained minimization in which\n",
            "    quadratic subproblems are solved almost exactly [13]_. This\n",
            "    algorithm requires the gradient and the Hessian (which is\n",
            "    *not* required to be positive definite). It is, in many\n",
            "    situations, the Newton method to converge in fewer iterations\n",
            "    and the most recommended for small and medium-size problems.\n",
            "    \n",
            "    **Bound-Constrained minimization**\n",
            "    \n",
            "    Method :ref:`Nelder-Mead <optimize.minimize-neldermead>` uses the\n",
            "    Simplex algorithm [1]_, [2]_. This algorithm is robust in many\n",
            "    applications. However, if numerical computation of derivative can be\n",
            "    trusted, other algorithms using the first and/or second derivatives\n",
            "    information might be preferred for their better performance in\n",
            "    general.\n",
            "    \n",
            "    Method :ref:`L-BFGS-B <optimize.minimize-lbfgsb>` uses the L-BFGS-B\n",
            "    algorithm [6]_, [7]_ for bound constrained minimization.\n",
            "    \n",
            "    Method :ref:`Powell <optimize.minimize-powell>` is a modification\n",
            "    of Powell's method [3]_, [4]_ which is a conjugate direction\n",
            "    method. It performs sequential one-dimensional minimizations along\n",
            "    each vector of the directions set (`direc` field in `options` and\n",
            "    `info`), which is updated at each iteration of the main\n",
            "    minimization loop. The function need not be differentiable, and no\n",
            "    derivatives are taken. If bounds are not provided, then an\n",
            "    unbounded line search will be used. If bounds are provided and\n",
            "    the initial guess is within the bounds, then every function\n",
            "    evaluation throughout the minimization procedure will be within\n",
            "    the bounds. If bounds are provided, the initial guess is outside\n",
            "    the bounds, and `direc` is full rank (default has full rank), then\n",
            "    some function evaluations during the first iteration may be\n",
            "    outside the bounds, but every function evaluation after the first\n",
            "    iteration will be within the bounds. If `direc` is not full rank,\n",
            "    then some parameters may not be optimized and the solution is not\n",
            "    guaranteed to be within the bounds.\n",
            "    \n",
            "    Method :ref:`TNC <optimize.minimize-tnc>` uses a truncated Newton\n",
            "    algorithm [5]_, [8]_ to minimize a function with variables subject\n",
            "    to bounds. This algorithm uses gradient information; it is also\n",
            "    called Newton Conjugate-Gradient. It differs from the *Newton-CG*\n",
            "    method described above as it wraps a C implementation and allows\n",
            "    each variable to be given upper and lower bounds.\n",
            "    \n",
            "    **Constrained Minimization**\n",
            "    \n",
            "    Method :ref:`COBYLA <optimize.minimize-cobyla>` uses the\n",
            "    Constrained Optimization BY Linear Approximation (COBYLA) method\n",
            "    [9]_, [10]_, [11]_. The algorithm is based on linear\n",
            "    approximations to the objective function and each constraint. The\n",
            "    method wraps a FORTRAN implementation of the algorithm. The\n",
            "    constraints functions 'fun' may return either a single number\n",
            "    or an array or list of numbers.\n",
            "    \n",
            "    Method :ref:`SLSQP <optimize.minimize-slsqp>` uses Sequential\n",
            "    Least SQuares Programming to minimize a function of several\n",
            "    variables with any combination of bounds, equality and inequality\n",
            "    constraints. The method wraps the SLSQP Optimization subroutine\n",
            "    originally implemented by Dieter Kraft [12]_. Note that the\n",
            "    wrapper handles infinite values in bounds by converting them into\n",
            "    large floating values.\n",
            "    \n",
            "    Method :ref:`trust-constr <optimize.minimize-trustconstr>` is a\n",
            "    trust-region algorithm for constrained optimization. It swiches\n",
            "    between two implementations depending on the problem definition.\n",
            "    It is the most versatile constrained minimization algorithm\n",
            "    implemented in SciPy and the most appropriate for large-scale problems.\n",
            "    For equality constrained problems it is an implementation of Byrd-Omojokun\n",
            "    Trust-Region SQP method described in [17]_ and in [5]_, p. 549. When\n",
            "    inequality constraints are imposed as well, it swiches to the trust-region\n",
            "    interior point method described in [16]_. This interior point algorithm,\n",
            "    in turn, solves inequality constraints by introducing slack variables\n",
            "    and solving a sequence of equality-constrained barrier problems\n",
            "    for progressively smaller values of the barrier parameter.\n",
            "    The previously described equality constrained SQP method is\n",
            "    used to solve the subproblems with increasing levels of accuracy\n",
            "    as the iterate gets closer to a solution.\n",
            "    \n",
            "    **Finite-Difference Options**\n",
            "    \n",
            "    For Method :ref:`trust-constr <optimize.minimize-trustconstr>`\n",
            "    the gradient and the Hessian may be approximated using\n",
            "    three finite-difference schemes: {'2-point', '3-point', 'cs'}.\n",
            "    The scheme 'cs' is, potentially, the most accurate but it\n",
            "    requires the function to correctly handle complex inputs and to\n",
            "    be differentiable in the complex plane. The scheme '3-point' is more\n",
            "    accurate than '2-point' but requires twice as many operations. If the\n",
            "    gradient is estimated via finite-differences the Hessian must be\n",
            "    estimated using one of the quasi-Newton strategies.\n",
            "    \n",
            "    **Method specific options for the** `hess` **keyword**\n",
            "    \n",
            "    +--------------+------+----------+-------------------------+-----+\n",
            "    | method/Hess  | None | callable | '2-point/'3-point'/'cs' | HUS |\n",
            "    +==============+======+==========+=========================+=====+\n",
            "    | Newton-CG    | x    | (n, n)   | x                       | x   |\n",
            "    |              |      | LO       |                         |     |\n",
            "    +--------------+------+----------+-------------------------+-----+\n",
            "    | dogleg       |      | (n, n)   |                         |     |\n",
            "    +--------------+------+----------+-------------------------+-----+\n",
            "    | trust-ncg    |      | (n, n)   | x                       | x   |\n",
            "    +--------------+------+----------+-------------------------+-----+\n",
            "    | trust-krylov |      | (n, n)   | x                       | x   |\n",
            "    +--------------+------+----------+-------------------------+-----+\n",
            "    | trust-exact  |      | (n, n)   |                         |     |\n",
            "    +--------------+------+----------+-------------------------+-----+\n",
            "    | trust-constr | x    | (n, n)   |  x                      | x   |\n",
            "    |              |      | LO       |                         |     |\n",
            "    |              |      | sp       |                         |     |\n",
            "    +--------------+------+----------+-------------------------+-----+\n",
            "    \n",
            "    where LO=LinearOperator, sp=Sparse matrix, HUS=HessianUpdateStrategy\n",
            "    \n",
            "    **Custom minimizers**\n",
            "    \n",
            "    It may be useful to pass a custom minimization method, for example\n",
            "    when using a frontend to this method such as `scipy.optimize.basinhopping`\n",
            "    or a different library.  You can simply pass a callable as the ``method``\n",
            "    parameter.\n",
            "    \n",
            "    The callable is called as ``method(fun, x0, args, **kwargs, **options)``\n",
            "    where ``kwargs`` corresponds to any other parameters passed to `minimize`\n",
            "    (such as `callback`, `hess`, etc.), except the `options` dict, which has\n",
            "    its contents also passed as `method` parameters pair by pair.  Also, if\n",
            "    `jac` has been passed as a bool type, `jac` and `fun` are mangled so that\n",
            "    `fun` returns just the function values and `jac` is converted to a function\n",
            "    returning the Jacobian.  The method shall return an `OptimizeResult`\n",
            "    object.\n",
            "    \n",
            "    The provided `method` callable must be able to accept (and possibly ignore)\n",
            "    arbitrary parameters; the set of parameters accepted by `minimize` may\n",
            "    expand in future versions and then these parameters will be passed to\n",
            "    the method.  You can find an example in the scipy.optimize tutorial.\n",
            "    \n",
            "    References\n",
            "    ----------\n",
            "    .. [1] Nelder, J A, and R Mead. 1965. A Simplex Method for Function\n",
            "        Minimization. The Computer Journal 7: 308-13.\n",
            "    .. [2] Wright M H. 1996. Direct search methods: Once scorned, now\n",
            "        respectable, in Numerical Analysis 1995: Proceedings of the 1995\n",
            "        Dundee Biennial Conference in Numerical Analysis (Eds. D F\n",
            "        Griffiths and G A Watson). Addison Wesley Longman, Harlow, UK.\n",
            "        191-208.\n",
            "    .. [3] Powell, M J D. 1964. An efficient method for finding the minimum of\n",
            "       a function of several variables without calculating derivatives. The\n",
            "       Computer Journal 7: 155-162.\n",
            "    .. [4] Press W, S A Teukolsky, W T Vetterling and B P Flannery.\n",
            "       Numerical Recipes (any edition), Cambridge University Press.\n",
            "    .. [5] Nocedal, J, and S J Wright. 2006. Numerical Optimization.\n",
            "       Springer New York.\n",
            "    .. [6] Byrd, R H and P Lu and J. Nocedal. 1995. A Limited Memory\n",
            "       Algorithm for Bound Constrained Optimization. SIAM Journal on\n",
            "       Scientific and Statistical Computing 16 (5): 1190-1208.\n",
            "    .. [7] Zhu, C and R H Byrd and J Nocedal. 1997. L-BFGS-B: Algorithm\n",
            "       778: L-BFGS-B, FORTRAN routines for large scale bound constrained\n",
            "       optimization. ACM Transactions on Mathematical Software 23 (4):\n",
            "       550-560.\n",
            "    .. [8] Nash, S G. Newton-Type Minimization Via the Lanczos Method.\n",
            "       1984. SIAM Journal of Numerical Analysis 21: 770-778.\n",
            "    .. [9] Powell, M J D. A direct search optimization method that models\n",
            "       the objective and constraint functions by linear interpolation.\n",
            "       1994. Advances in Optimization and Numerical Analysis, eds. S. Gomez\n",
            "       and J-P Hennart, Kluwer Academic (Dordrecht), 51-67.\n",
            "    .. [10] Powell M J D. Direct search algorithms for optimization\n",
            "       calculations. 1998. Acta Numerica 7: 287-336.\n",
            "    .. [11] Powell M J D. A view of algorithms for optimization without\n",
            "       derivatives. 2007.Cambridge University Technical Report DAMTP\n",
            "       2007/NA03\n",
            "    .. [12] Kraft, D. A software package for sequential quadratic\n",
            "       programming. 1988. Tech. Rep. DFVLR-FB 88-28, DLR German Aerospace\n",
            "       Center -- Institute for Flight Mechanics, Koln, Germany.\n",
            "    .. [13] Conn, A. R., Gould, N. I., and Toint, P. L.\n",
            "       Trust region methods. 2000. Siam. pp. 169-200.\n",
            "    .. [14] F. Lenders, C. Kirches, A. Potschka: \"trlib: A vector-free\n",
            "       implementation of the GLTR method for iterative solution of\n",
            "       the trust region problem\", :arxiv:`1611.04718`\n",
            "    .. [15] N. Gould, S. Lucidi, M. Roma, P. Toint: \"Solving the\n",
            "       Trust-Region Subproblem using the Lanczos Method\",\n",
            "       SIAM J. Optim., 9(2), 504--525, (1999).\n",
            "    .. [16] Byrd, Richard H., Mary E. Hribar, and Jorge Nocedal. 1999.\n",
            "        An interior point algorithm for large-scale nonlinear  programming.\n",
            "        SIAM Journal on Optimization 9.4: 877-900.\n",
            "    .. [17] Lalee, Marucha, Jorge Nocedal, and Todd Plantega. 1998. On the\n",
            "        implementation of an algorithm for large-scale equality constrained\n",
            "        optimization. SIAM Journal on Optimization 8.3: 682-706.\n",
            "    \n",
            "    Examples\n",
            "    --------\n",
            "    Let us consider the problem of minimizing the Rosenbrock function. This\n",
            "    function (and its respective derivatives) is implemented in `rosen`\n",
            "    (resp. `rosen_der`, `rosen_hess`) in the `scipy.optimize`.\n",
            "    \n",
            "    >>> from scipy.optimize import minimize, rosen, rosen_der\n",
            "    \n",
            "    A simple application of the *Nelder-Mead* method is:\n",
            "    \n",
            "    >>> x0 = [1.3, 0.7, 0.8, 1.9, 1.2]\n",
            "    >>> res = minimize(rosen, x0, method='Nelder-Mead', tol=1e-6)\n",
            "    >>> res.x\n",
            "    array([ 1.,  1.,  1.,  1.,  1.])\n",
            "    \n",
            "    Now using the *BFGS* algorithm, using the first derivative and a few\n",
            "    options:\n",
            "    \n",
            "    >>> res = minimize(rosen, x0, method='BFGS', jac=rosen_der,\n",
            "    ...                options={'gtol': 1e-6, 'disp': True})\n",
            "    Optimization terminated successfully.\n",
            "             Current function value: 0.000000\n",
            "             Iterations: 26\n",
            "             Function evaluations: 31\n",
            "             Gradient evaluations: 31\n",
            "    >>> res.x\n",
            "    array([ 1.,  1.,  1.,  1.,  1.])\n",
            "    >>> print(res.message)\n",
            "    Optimization terminated successfully.\n",
            "    >>> res.hess_inv\n",
            "    array([[ 0.00749589,  0.01255155,  0.02396251,  0.04750988,  0.09495377],  # may vary\n",
            "           [ 0.01255155,  0.02510441,  0.04794055,  0.09502834,  0.18996269],\n",
            "           [ 0.02396251,  0.04794055,  0.09631614,  0.19092151,  0.38165151],\n",
            "           [ 0.04750988,  0.09502834,  0.19092151,  0.38341252,  0.7664427 ],\n",
            "           [ 0.09495377,  0.18996269,  0.38165151,  0.7664427,   1.53713523]])\n",
            "    \n",
            "    \n",
            "    Next, consider a minimization problem with several constraints (namely\n",
            "    Example 16.4 from [5]_). The objective function is:\n",
            "    \n",
            "    >>> fun = lambda x: (x[0] - 1)**2 + (x[1] - 2.5)**2\n",
            "    \n",
            "    There are three constraints defined as:\n",
            "    \n",
            "    >>> cons = ({'type': 'ineq', 'fun': lambda x:  x[0] - 2 * x[1] + 2},\n",
            "    ...         {'type': 'ineq', 'fun': lambda x: -x[0] - 2 * x[1] + 6},\n",
            "    ...         {'type': 'ineq', 'fun': lambda x: -x[0] + 2 * x[1] + 2})\n",
            "    \n",
            "    And variables must be positive, hence the following bounds:\n",
            "    \n",
            "    >>> bnds = ((0, None), (0, None))\n",
            "    \n",
            "    The optimization problem is solved using the SLSQP method as:\n",
            "    \n",
            "    >>> res = minimize(fun, (2, 0), method='SLSQP', bounds=bnds,\n",
            "    ...                constraints=cons)\n",
            "    \n",
            "    It should converge to the theoretical solution (1.4 ,1.7).\n",
            "\n"
          ]
        }
      ],
      "source": [
        "help(minimize)"
      ]
    },
    {
      "cell_type": "markdown",
      "metadata": {
        "id": "jQ-YwA91bO-4"
      },
      "source": [
        "Эта функция имеет стандартный интерфейс: нужно передать callable объект, который вычисляет значение и градиент целевой функции, а также точку старта оптимизации — начальное приближение (одномерный `numpy`-массив). Поэтому нам понадобятся функции для сбора и задания всех весов нашей нейросети (именно для них мы всегда записывали параметры слоя в список `layer.params`)"
      ]
    },
    {
      "cell_type": "code",
      "execution_count": 113,
      "metadata": {
        "id": "UoQoRul-bO-4"
      },
      "outputs": [],
      "source": [
        "def get_weights(network):\n",
        "    weights = []\n",
        "    for layer in network:\n",
        "        for param in layer.params:\n",
        "            weights += param.ravel().tolist()\n",
        "    return np.array(weights)\n",
        "\n",
        "\n",
        "def set_weights(weights, network):\n",
        "    i = 0\n",
        "    for layer in network:\n",
        "        for param in layer.params:\n",
        "            l = param.size\n",
        "            param[:] = weights[i:i+l].reshape(param.shape)\n",
        "            i += l"
      ]
    },
    {
      "cell_type": "markdown",
      "metadata": {
        "id": "whXPRe7GbO-4"
      },
      "source": [
        "Вам нужно реализовать ту самую функцию, которую мы будем передавать в `minimize`. Эта функция должна брать на вход текущую точку (вектор всех параметров), а также список дополнительных параметров (мы будем передавать через них нашу сеть и обучающие данные) и возвращать значение критерия качества (NLL) и его градиент по параметрам модели."
      ]
    },
    {
      "cell_type": "code",
      "execution_count": 114,
      "metadata": {
        "id": "ymynje5lbO-4"
      },
      "outputs": [],
      "source": [
        "def compute_loss_grad(weights, args):\n",
        "    \"\"\"\n",
        "    takes current weights and computes cross-entropy and gradients\n",
        "    weights shape: [num_parameters]\n",
        "    output 1: loss (scalar)\n",
        "    output 2: gradint w.r.t. weights, shape: [num_parameters]\n",
        "\n",
        "    hint: firstly perform forward pass through the whole network\n",
        "    then compute loss and its gradients\n",
        "    then perform backward pass, transmitting first baskward output\n",
        "    to the previos layer and saving second baskward output in a list\n",
        "    finally flatten all the gradients in this list\n",
        "    (in the order from the first to the last layer)\n",
        "\n",
        "    Do not forget to set weights of the network!\n",
        "    \"\"\"\n",
        "    network, X, y = args\n",
        "    set_weights(weights, network)\n",
        "    network_output = forward(network, X)\n",
        "    grad_weights = backward(network, grad_NLL(network_output, target_mask(y, network_output.shape[1])))\n",
        "    loss = NLL(network_output, y)\n",
        "    return loss, grad_weights"
      ]
    },
    {
      "cell_type": "markdown",
      "metadata": {
        "id": "aL6VC0TZbO-5"
      },
      "source": [
        "Теперь мы готовы обучать нашу нейросеть."
      ]
    },
    {
      "cell_type": "code",
      "execution_count": 115,
      "metadata": {
        "id": "qstXtbCCbO-5"
      },
      "outputs": [],
      "source": [
        "weights = get_weights(network)"
      ]
    },
    {
      "cell_type": "code",
      "execution_count": 116,
      "metadata": {
        "id": "rM9pYyrpbO-5"
      },
      "outputs": [],
      "source": [
        "res = minimize(\n",
        "    compute_loss_grad, weights,       # fun and start point\n",
        "    args=[network, X_train, y_train], # args passed to fun\n",
        "    method=\"L-BFGS-B\",                # optimization method\n",
        "    jac=True                          # says that gradient is computed in fun\n",
        ")"
      ]
    },
    {
      "cell_type": "code",
      "execution_count": 117,
      "metadata": {
        "colab": {
          "base_uri": "https://localhost:8080/"
        },
        "id": "W2KFEEqJbO-5",
        "outputId": "10a65683-8a79-4049-c57f-4cf6c80026d2"
      },
      "outputs": [
        {
          "output_type": "execute_result",
          "data": {
            "text/plain": [
              "dict_keys(['fun', 'jac', 'nfev', 'njev', 'nit', 'status', 'message', 'x', 'success', 'hess_inv'])"
            ]
          },
          "metadata": {},
          "execution_count": 117
        }
      ],
      "source": [
        "res.keys()"
      ]
    },
    {
      "cell_type": "code",
      "execution_count": 118,
      "metadata": {
        "colab": {
          "base_uri": "https://localhost:8080/"
        },
        "id": "umzfwniVbO-6",
        "outputId": "d4300c3c-a031-43f4-c747-76e911d1cdf9",
        "scrolled": true
      },
      "outputs": [
        {
          "output_type": "execute_result",
          "data": {
            "text/plain": [
              "118"
            ]
          },
          "metadata": {},
          "execution_count": 118
        }
      ],
      "source": [
        "res[\"nit\"] # number of iterations (should be >> 10)"
      ]
    },
    {
      "cell_type": "code",
      "execution_count": 119,
      "metadata": {
        "colab": {
          "base_uri": "https://localhost:8080/"
        },
        "id": "308iEiVqbO-6",
        "outputId": "7ece5cbd-a905-4256-8fb5-1fcc46d70406"
      },
      "outputs": [
        {
          "output_type": "execute_result",
          "data": {
            "text/plain": [
              "True"
            ]
          },
          "metadata": {},
          "execution_count": 119
        }
      ],
      "source": [
        "res[\"success\"] # should be True"
      ]
    },
    {
      "cell_type": "code",
      "execution_count": 120,
      "metadata": {
        "colab": {
          "base_uri": "https://localhost:8080/"
        },
        "id": "tpvQ8pqcbO-6",
        "outputId": "6762d028-1d46-4a50-bede-6c5df2da5635"
      },
      "outputs": [
        {
          "output_type": "execute_result",
          "data": {
            "text/plain": [
              "array([ 0.00474122, -0.01361731, -0.00725737, ..., -0.83020246,\n",
              "       -2.40264259, -0.74203835])"
            ]
          },
          "metadata": {},
          "execution_count": 120
        }
      ],
      "source": [
        "res[\"x\"] # learned weights"
      ]
    },
    {
      "cell_type": "code",
      "execution_count": 121,
      "metadata": {
        "colab": {
          "base_uri": "https://localhost:8080/",
          "height": 36
        },
        "id": "GSRnSccIwA8X",
        "outputId": "b02eaf7b-5305-4be8-e8b1-12f365fbf963"
      },
      "outputs": [
        {
          "output_type": "execute_result",
          "data": {
            "text/plain": [
              "'CONVERGENCE: NORM_OF_PROJECTED_GRADIENT_<=_PGTOL'"
            ],
            "application/vnd.google.colaboratory.intrinsic+json": {
              "type": "string"
            }
          },
          "metadata": {},
          "execution_count": 121
        }
      ],
      "source": [
        "res['message']"
      ]
    },
    {
      "cell_type": "markdown",
      "metadata": {
        "id": "7nBVHJtfbO-6"
      },
      "source": [
        "Выведите качество на обучении (`X_train`, `y_train`) и на контроле (`X_test`, `y_test`). Не забудьте установить веса!"
      ]
    },
    {
      "cell_type": "code",
      "execution_count": 122,
      "metadata": {
        "colab": {
          "base_uri": "https://localhost:8080/"
        },
        "id": "yWMiYq2EbO-7",
        "outputId": "79afc86a-1a88-4e91-c39e-3e3891193be6"
      },
      "outputs": [
        {
          "output_type": "stream",
          "name": "stdout",
          "text": [
            "NLL (Train / Test): 6.2923e-07, 1.3061\n",
            "Accuracy (Train / Test): 1.0, 0.93778\n"
          ]
        }
      ],
      "source": [
        "### your code here\n",
        "set_weights(res['x'], network)\n",
        "print('NLL (Train / Test): {:.5}, {:.5}'.format(NLL(forward(network, X_train), y_train), NLL(forward(network, X_test), y_test)))\n",
        "print('Accuracy (Train / Test): {:.5}, {:.5}'.format(np.sum(predict(network, X_train) == y_train) / y_train.shape[0],\n",
        "                                               np.sum(predict(network, X_test) == y_test) / y_test.shape[0]))"
      ]
    },
    {
      "cell_type": "markdown",
      "metadata": {
        "id": "b-D1nlrWbO-7"
      },
      "source": [
        "У `minimize` есть также аргумент `callback` — в нее можно передать функцию, которая будет вызываться после каждой итерации оптимизации. Такую функцию удобно оформить в виде метода класса, который будет сохранять качество на обучении контроле после каждой итерации. Реализуйте этот метод в классе `Callback`:"
      ]
    },
    {
      "cell_type": "code",
      "execution_count": 123,
      "metadata": {
        "id": "UF1gckgYbO-7"
      },
      "outputs": [],
      "source": [
        "class Callback:\n",
        "    def __init__(self, network, X_train, y_train, X_test, y_test, print=False):\n",
        "        self.network = network\n",
        "        self.X_train = X_train\n",
        "        self.X_test = X_test\n",
        "        self.y_train = y_train\n",
        "        self.y_test = y_test\n",
        "        self.print = print\n",
        "        self.train_acc = []\n",
        "        self.test_acc = []\n",
        "\n",
        "    def call(self, weights):\n",
        "        \"\"\"\n",
        "        Computes quality on train and test set with given weights\n",
        "        and saves to self.train_acc and self.test_acc.\n",
        "        If self.print is True, also prints these 2 values\n",
        "        \"\"\"\n",
        "        ### your code here\n",
        "        self.train_acc.append(np.sum(predict(self.network, self.X_train) == self.y_train) / self.y_train.shape[0])\n",
        "        self.test_acc.append(np.sum(predict(self.network, self.X_test) == self.y_test) / self.y_test.shape[0])\n",
        "\n",
        "        if self.print:\n",
        "            print('Accuracy (Train / Test): {:.5}, {:.5}'.format(self.train_acc[-1], self.test_acc[-1]))"
      ]
    },
    {
      "cell_type": "code",
      "execution_count": 124,
      "metadata": {
        "colab": {
          "base_uri": "https://localhost:8080/"
        },
        "id": "CDh-I1ewbO-8",
        "outputId": "49b40e42-bbd1-449e-b079-5531c100e0e2"
      },
      "outputs": [
        {
          "output_type": "stream",
          "name": "stdout",
          "text": [
            "Accuracy (Train / Test): 0.10616, 0.084444\n",
            "Accuracy (Train / Test): 0.13289, 0.14\n",
            "Accuracy (Train / Test): 0.20416, 0.22667\n",
            "Accuracy (Train / Test): 0.2242, 0.25333\n",
            "Accuracy (Train / Test): 0.26503, 0.28889\n",
            "Accuracy (Train / Test): 0.32294, 0.33778\n",
            "Accuracy (Train / Test): 0.35783, 0.35556\n",
            "Accuracy (Train / Test): 0.42094, 0.41333\n",
            "Accuracy (Train / Test): 0.48404, 0.48222\n",
            "Accuracy (Train / Test): 0.56867, 0.52222\n",
            "Accuracy (Train / Test): 0.61024, 0.57556\n",
            "Accuracy (Train / Test): 0.66964, 0.64222\n",
            "Accuracy (Train / Test): 0.71269, 0.70444\n",
            "Accuracy (Train / Test): 0.74833, 0.71778\n",
            "Accuracy (Train / Test): 0.76466, 0.73111\n",
            "Accuracy (Train / Test): 0.77357, 0.75333\n",
            "Accuracy (Train / Test): 0.78471, 0.75778\n",
            "Accuracy (Train / Test): 0.80252, 0.77778\n",
            "Accuracy (Train / Test): 0.83073, 0.8\n",
            "Accuracy (Train / Test): 0.83445, 0.82\n",
            "Accuracy (Train / Test): 0.85523, 0.83111\n",
            "Accuracy (Train / Test): 0.86266, 0.83778\n",
            "Accuracy (Train / Test): 0.88196, 0.87333\n",
            "Accuracy (Train / Test): 0.88864, 0.88\n",
            "Accuracy (Train / Test): 0.89978, 0.89111\n",
            "Accuracy (Train / Test): 0.90943, 0.89556\n",
            "Accuracy (Train / Test): 0.91166, 0.89556\n",
            "Accuracy (Train / Test): 0.92056, 0.91778\n",
            "Accuracy (Train / Test): 0.92799, 0.91333\n",
            "Accuracy (Train / Test): 0.9317, 0.92\n",
            "Accuracy (Train / Test): 0.93615, 0.92\n",
            "Accuracy (Train / Test): 0.94729, 0.92889\n",
            "Accuracy (Train / Test): 0.95026, 0.92444\n",
            "Accuracy (Train / Test): 0.95174, 0.92222\n",
            "Accuracy (Train / Test): 0.95323, 0.92222\n",
            "Accuracy (Train / Test): 0.95546, 0.92444\n",
            "Accuracy (Train / Test): 0.95991, 0.92444\n",
            "Accuracy (Train / Test): 0.96214, 0.93333\n",
            "Accuracy (Train / Test): 0.96288, 0.93556\n",
            "Accuracy (Train / Test): 0.96362, 0.93556\n",
            "Accuracy (Train / Test): 0.96288, 0.93333\n",
            "Accuracy (Train / Test): 0.96214, 0.92444\n",
            "Accuracy (Train / Test): 0.96585, 0.93333\n",
            "Accuracy (Train / Test): 0.96808, 0.93333\n",
            "Accuracy (Train / Test): 0.97105, 0.93111\n",
            "Accuracy (Train / Test): 0.97105, 0.93556\n",
            "Accuracy (Train / Test): 0.96956, 0.94\n",
            "Accuracy (Train / Test): 0.9755, 0.94\n",
            "Accuracy (Train / Test): 0.97699, 0.94\n",
            "Accuracy (Train / Test): 0.97847, 0.94\n",
            "Accuracy (Train / Test): 0.97699, 0.94444\n",
            "Accuracy (Train / Test): 0.97773, 0.93778\n",
            "Accuracy (Train / Test): 0.98218, 0.93778\n",
            "Accuracy (Train / Test): 0.98589, 0.93778\n",
            "Accuracy (Train / Test): 0.98441, 0.94\n",
            "Accuracy (Train / Test): 0.98441, 0.94\n",
            "Accuracy (Train / Test): 0.98589, 0.94444\n",
            "Accuracy (Train / Test): 0.98812, 0.94667\n",
            "Accuracy (Train / Test): 0.98812, 0.94444\n",
            "Accuracy (Train / Test): 0.98738, 0.94667\n",
            "Accuracy (Train / Test): 0.98589, 0.94444\n",
            "Accuracy (Train / Test): 0.99109, 0.94667\n",
            "Accuracy (Train / Test): 0.99258, 0.95333\n",
            "Accuracy (Train / Test): 0.99258, 0.94889\n",
            "Accuracy (Train / Test): 0.99332, 0.94667\n",
            "Accuracy (Train / Test): 0.99258, 0.94667\n",
            "Accuracy (Train / Test): 0.99258, 0.94667\n",
            "Accuracy (Train / Test): 0.9948, 0.94667\n",
            "Accuracy (Train / Test): 0.99555, 0.94889\n",
            "Accuracy (Train / Test): 0.99555, 0.94889\n",
            "Accuracy (Train / Test): 0.99555, 0.94667\n",
            "Accuracy (Train / Test): 0.99629, 0.95111\n",
            "Accuracy (Train / Test): 0.99703, 0.95111\n",
            "Accuracy (Train / Test): 0.99777, 0.95333\n",
            "Accuracy (Train / Test): 0.99926, 0.95111\n",
            "Accuracy (Train / Test): 0.99926, 0.95111\n",
            "Accuracy (Train / Test): 0.99926, 0.95111\n",
            "Accuracy (Train / Test): 0.99926, 0.94889\n",
            "Accuracy (Train / Test): 1.0, 0.94889\n",
            "Accuracy (Train / Test): 0.99926, 0.94444\n",
            "Accuracy (Train / Test): 1.0, 0.94889\n",
            "Accuracy (Train / Test): 1.0, 0.94889\n",
            "Accuracy (Train / Test): 1.0, 0.94889\n",
            "Accuracy (Train / Test): 1.0, 0.94889\n",
            "Accuracy (Train / Test): 1.0, 0.94444\n",
            "Accuracy (Train / Test): 1.0, 0.94444\n",
            "Accuracy (Train / Test): 1.0, 0.94667\n",
            "Accuracy (Train / Test): 1.0, 0.95111\n",
            "Accuracy (Train / Test): 1.0, 0.94667\n",
            "Accuracy (Train / Test): 1.0, 0.94667\n",
            "Accuracy (Train / Test): 1.0, 0.94222\n",
            "Accuracy (Train / Test): 1.0, 0.94222\n",
            "Accuracy (Train / Test): 1.0, 0.94222\n",
            "Accuracy (Train / Test): 1.0, 0.94222\n",
            "Accuracy (Train / Test): 1.0, 0.94222\n",
            "Accuracy (Train / Test): 1.0, 0.94222\n",
            "Accuracy (Train / Test): 1.0, 0.94222\n",
            "Accuracy (Train / Test): 1.0, 0.93556\n",
            "Accuracy (Train / Test): 1.0, 0.93556\n",
            "Accuracy (Train / Test): 1.0, 0.93333\n",
            "Accuracy (Train / Test): 1.0, 0.93333\n",
            "Accuracy (Train / Test): 1.0, 0.94\n",
            "Accuracy (Train / Test): 1.0, 0.93778\n",
            "Accuracy (Train / Test): 1.0, 0.93778\n",
            "Accuracy (Train / Test): 1.0, 0.93778\n",
            "Accuracy (Train / Test): 1.0, 0.93778\n",
            "Accuracy (Train / Test): 1.0, 0.94222\n",
            "Accuracy (Train / Test): 1.0, 0.94444\n",
            "Accuracy (Train / Test): 1.0, 0.94444\n",
            "Accuracy (Train / Test): 1.0, 0.94222\n",
            "Accuracy (Train / Test): 1.0, 0.94\n",
            "Accuracy (Train / Test): 1.0, 0.93556\n",
            "Accuracy (Train / Test): 1.0, 0.93556\n",
            "Accuracy (Train / Test): 1.0, 0.93556\n",
            "Accuracy (Train / Test): 1.0, 0.93778\n",
            "Accuracy (Train / Test): 1.0, 0.94\n",
            "Accuracy (Train / Test): 1.0, 0.93778\n",
            "Accuracy (Train / Test): 1.0, 0.93778\n"
          ]
        }
      ],
      "source": [
        "cb = Callback(network, X_train, y_train, X_test, y_test, print=True)\n",
        "\n",
        "res = minimize(\n",
        "    compute_loss_grad, weights,\n",
        "    args=[network, X_train, y_train],\n",
        "    method=\"L-BFGS-B\",\n",
        "    jac=True,\n",
        "    callback=cb.call\n",
        ")"
      ]
    },
    {
      "cell_type": "markdown",
      "metadata": {
        "id": "Ny6BO4o2bO-8"
      },
      "source": [
        "Изобразите на графике кривую качества на обучени и контроле по итерациям:"
      ]
    },
    {
      "cell_type": "code",
      "execution_count": 125,
      "metadata": {
        "colab": {
          "base_uri": "https://localhost:8080/",
          "height": 507
        },
        "id": "CKqiJr47bO-8",
        "outputId": "c8d35145-5af6-4cc8-cf2a-d8d243e7c112"
      },
      "outputs": [
        {
          "output_type": "display_data",
          "data": {
            "text/plain": [
              "<Figure size 1000x500 with 1 Axes>"
            ],
            "image/png": "[encoded data removed]"
          },
          "metadata": {}
        }
      ],
      "source": [
        "fig, ax = plt.subplots(1, 1, figsize=(10, 5))\n",
        "ax.plot(cb.train_acc, label=\"train acc\")\n",
        "ax.plot(cb.test_acc, label=\"test acc\")\n",
        "ax.set_xlabel(\"Iteration\")\n",
        "ax.set_ylabel(\"Accuracy\")\n",
        "ax.grid(True)\n",
        "ax.legend()\n",
        "\n",
        "fig.tight_layout()\n",
        "plt.show()"
      ]
    },
    {
      "cell_type": "markdown",
      "metadata": {
        "id": "TWph4u16bO-8"
      },
      "source": [
        "### `Эксперименты с числом слоев (0.6 балла)`"
      ]
    },
    {
      "cell_type": "markdown",
      "metadata": {
        "id": "yoMkBnD5bO-9"
      },
      "source": [
        "Ясно, что из-за случайного начального приближения с каждым запуском обучения мы будем получать различное качество. Попробуем обучить нашу нейросеть с разным числом слоев несколько раз.\n",
        "\n",
        "Заполните матрицы `accs_train` и `accs_test`. В позиции `[i, j]` должна стоять величина доли правильных ответов сети с $i+1$ полносвязными слоями при $j$-м запуске (все запуски идентичны)."
      ]
    },
    {
      "cell_type": "code",
      "execution_count": 126,
      "metadata": {
        "id": "S6RUp8BfbO-9"
      },
      "outputs": [],
      "source": [
        "accs_train = np.zeros((5, 5))\n",
        "accs_test = np.zeros((5, 5))"
      ]
    },
    {
      "cell_type": "code",
      "execution_count": 127,
      "metadata": {
        "id": "oHTN_pYYbO-9"
      },
      "outputs": [],
      "source": [
        "### your code here\n",
        "for i in range(5):\n",
        "    for j in range(5):\n",
        "        network = make_network(input_size=X_train.shape[1],\n",
        "                               output_size=10,\n",
        "                               n_layers=(i + 1),\n",
        "                               hidden_layers_size=32)\n",
        "        weights = get_weights(network)\n",
        "        cb = Callback(network, X_train, y_train, X_test, y_test, print=False)\n",
        "        res = minimize(compute_loss_grad, weights,\n",
        "                       args=[network, X_train, y_train],\n",
        "                       method=\"L-BFGS-B\",\n",
        "                       jac=True,\n",
        "                       callback=cb.call)\n",
        "        accs_train[i, j] = cb.train_acc[-1]\n",
        "        accs_test[i, j] = cb.test_acc[-1]"
      ]
    },
    {
      "cell_type": "markdown",
      "metadata": {
        "id": "RXzs6np_bO-9"
      },
      "source": [
        "Построим боксплоты полученного качества (горизонтальная линия в каждом столбце — среднее, прямоугольник показывает разброс)."
      ]
    },
    {
      "cell_type": "code",
      "execution_count": 128,
      "metadata": {
        "colab": {
          "base_uri": "https://localhost:8080/",
          "height": 807
        },
        "id": "_EVJWj8obO-9",
        "outputId": "ebdfe805-b07d-4f18-c2e3-dcc97f91b93d"
      },
      "outputs": [
        {
          "output_type": "display_data",
          "data": {
            "text/plain": [
              "<Figure size 1000x800 with 2 Axes>"
            ],
            "image/png": "[encoded data removed]"
          },
          "metadata": {}
        }
      ],
      "source": [
        "fig, axes = plt.subplots(2, 1, figsize=(10, 8))\n",
        "\n",
        "axes[0].boxplot(accs_train.T, showfliers=False)\n",
        "axes[1].boxplot(accs_test.T, showfliers=False)\n",
        "\n",
        "axes[0].set_xlabel(\"Number of layers\")\n",
        "axes[1].set_xlabel(\"Number of layers\")\n",
        "\n",
        "axes[0].set_ylabel(\"Train accuracy\")\n",
        "axes[1].set_ylabel(\"Test accuracy\")\n",
        "\n",
        "axes[0].set_title(\"Train quality in 5 runs\")\n",
        "axes[1].set_title(\"Test quality in 5 runs\")\n",
        "\n",
        "axes[0].grid(True)\n",
        "axes[1].grid(True)\n",
        "\n",
        "fig.tight_layout()\n",
        "plt.show()"
      ]
    },
    {
      "cell_type": "markdown",
      "metadata": {
        "id": "CL11sgv9bO--"
      },
      "source": [
        "Дайте развёрнутый ответ на вопросы (в этой же ячейке):\n",
        "* Как изменяются качество на обучении и контроле и устойчивость процесса обучения при увеличении числа слоев?\n",
        "* Можно ли сказать, что логистическая регрессия (линейная модель) дает качество хуже, чем нелинейная модель?\n",
        "\n",
        "__Ответы:__\n",
        "\n",
        "1. Качество на обучении при изменении числа слоёв осталось без изменений равным единице, однако качество на контроле имеет максимум при не очень маленьком и не очень большом числе слоёв, так как маленькое число слоёв будет приводить к возможному недообучению, а большое число слоёв, наоборот, больше подстраивает сеть под обучающую выборку, что ведёт к переобучению. Также видно, что устойчивость процесса обучения ухудшается с увеличением числа слоёв. Так, при 5 слоях обучение самое неустойчивое.\n",
        "2. Любую линейную модель можно рассматривать как нейронную сеть с одним линейным слоем и определённой функцией потерь (для логистической регрессии, соответственно, log-loss). Здесь логистической регрессией выступает нейронная сеть с одним линейным слоем. По графику видно, что она хуже, чем нейронная сеть с 3 слоями и нелинейностью."
      ]
    },
    {
      "cell_type": "markdown",
      "metadata": {
        "id": "r8JBESN3bO--"
      },
      "source": [
        "### `Эксперименты c различными инициализациями весов (0.6 балла)`"
      ]
    },
    {
      "cell_type": "markdown",
      "metadata": {
        "id": "7O9LaVa1bO--"
      },
      "source": [
        "Как уже было сказано, начальная инициализация весов нейронной сети может сильно влиять на процесс ее обучения и, как следствие, на ее качество.\n",
        "\n",
        "В этом пункте вам предлагается попробовать обучить несколько нейронных сетей с различными инициализациями слоев.\n",
        "\n",
        "Для этого необходимо реализовать функцию, инициализирующую веса линейных слоёв нашей нейронной сети. Добавьте в функционал данного метода возможность инициализировать его веса с помощью инициализации Kaiming (используется, если в нейронной сети в качестве функций активации используется ReLU) и инициализации Xavier (используется, если в нейронной сети в качестве функций активации используется Tanh или Sigmoid):"
      ]
    },
    {
      "cell_type": "code",
      "execution_count": 129,
      "metadata": {
        "id": "scqbvVrrbO--"
      },
      "outputs": [],
      "source": [
        "def initialize_network(network, initialization):\n",
        "    for layer in network:\n",
        "        if isinstance(layer, Dense):\n",
        "            input_units, output_units = layer.weights.shape\n",
        "            if initialization == 'Kaiming':\n",
        "                # layer.weights[:, :] = np.random.normal(0, 4 / (input_units + output_units), size=(input_units, output_units))\n",
        "                layer.weights[:, :] = np.random.normal(0, (2 / output_units) ** 0.5, size=(input_units, output_units))\n",
        "            elif initialization == 'Xavier':\n",
        "                # layer.weights[:, :] = np.random.normal(0, 2 / (input_units + output_units), size=(input_units, output_units))\n",
        "                layer.weights[:, :] = np.random.normal(0, (1 / output_units) ** 0.5, size=(input_units, output_units))\n",
        "            else:\n",
        "                # Initialize weights with small random numbers from normal distribution.\n",
        "                # In this case `initialization` represents a standard deviation\n",
        "                # for normal distribution.\n",
        "                layer.weights = np.random.randn(input_units, output_units) * initialization\n",
        "            layer.biases = np.zeros_like(layer.biases)\n",
        "\n",
        "            layer.params = [layer.weights, layer.biases]"
      ]
    },
    {
      "cell_type": "markdown",
      "metadata": {
        "id": "mUbN4yfjbO-_"
      },
      "source": [
        "Теперь попробуйте для каждой из 3 инициализаций обучить нейронную сеть несколько раз. Попробуйте проделать данную операцию при зафиксированном числе слоев равным 3, 4 и 5."
      ]
    },
    {
      "cell_type": "markdown",
      "metadata": {
        "id": "YH7D5708bO-_"
      },
      "source": [
        "#### `3 слоя`\n",
        "\n",
        "Зафиксируйте в сети число слоев равное трем."
      ]
    },
    {
      "cell_type": "markdown",
      "metadata": {
        "id": "cHsGEaRkbO-_"
      },
      "source": [
        "Заполните матрицы `accs_train` и `accs_test`. В позиции `[i, j]` должна стоять величина доли правильных ответов сети при $j$-м запуске (все запуски идентичны) с инициализацией Kaiming при $i = 3$, с инициализацией Xavier при $i = 4$ и с инициализацией из нормального распределения с фиксированными параметрами при $0 \\leqslant i \\leqslant 2$ (попробуйте здесь 3 разных параметра для стандартного отклонения для нормального распределения, например: `1e-3`, `1e-2`, `1e-1`). Заметьте, что при большом числе слоев слишком низкое стандартное отклонение может не давать нейронной сети нормально обучиться."
      ]
    },
    {
      "cell_type": "code",
      "execution_count": 130,
      "metadata": {
        "id": "zBOjvmNzbO-_"
      },
      "outputs": [],
      "source": [
        "init_vars = [1e-3, 1e-2, 1e-1, 'Kaiming', 'Xavier']"
      ]
    },
    {
      "cell_type": "code",
      "execution_count": 131,
      "metadata": {
        "id": "oI-kHER5bO-_"
      },
      "outputs": [],
      "source": [
        "accs_train = np.zeros((5, 5))\n",
        "accs_test = np.zeros((5, 5))"
      ]
    },
    {
      "cell_type": "code",
      "execution_count": 132,
      "metadata": {
        "id": "KsxycbVjbO_A"
      },
      "outputs": [],
      "source": [
        "### your code here\n",
        "for i in range(5):\n",
        "    for j in range(5):\n",
        "        network = make_network(input_size=X_train.shape[1],\n",
        "                               output_size=10,\n",
        "                               n_layers=3,\n",
        "                               hidden_layers_size=32)\n",
        "        initialize_network(network, init_vars[i])\n",
        "        weights = get_weights(network)\n",
        "        cb = Callback(network, X_train, y_train, X_test, y_test, print=False)\n",
        "        res = minimize(compute_loss_grad, weights,\n",
        "                       args=[network, X_train, y_train],\n",
        "                       method=\"L-BFGS-B\",\n",
        "                       jac=True,\n",
        "                       callback=cb.call)\n",
        "        accs_train[i, j] = cb.train_acc[-1]\n",
        "        accs_test[i, j] = cb.test_acc[-1]"
      ]
    },
    {
      "cell_type": "markdown",
      "metadata": {
        "id": "uNhHA3pebO_A"
      },
      "source": [
        "Построим боксплоты полученного качества (горизонтальная линия в каждом столбце — среднее, прямоугольник показывает разброс)."
      ]
    },
    {
      "cell_type": "code",
      "execution_count": 133,
      "metadata": {
        "colab": {
          "base_uri": "https://localhost:8080/",
          "height": 807
        },
        "id": "V2UhYZ3dbO_A",
        "outputId": "48a01a0e-e7cb-42d4-da8b-24044253cc0b",
        "scrolled": false
      },
      "outputs": [
        {
          "output_type": "display_data",
          "data": {
            "text/plain": [
              "<Figure size 1000x800 with 2 Axes>"
            ],
            "image/png": "[encoded data removed]"
          },
          "metadata": {}
        }
      ],
      "source": [
        "init_vars_for_plot = [(x if isinstance(x, str) else fr\"$\\sigma = {x}$\") for x in init_vars]\n",
        "\n",
        "fig, axes = plt.subplots(2, 1, figsize=(10, 8))\n",
        "\n",
        "axes[0].boxplot(accs_train.T, showfliers=False)\n",
        "axes[1].boxplot(accs_test.T, showfliers=False)\n",
        "\n",
        "axes[0].set_xlabel(\"Initialization\")\n",
        "axes[1].set_xlabel(\"Initialization\")\n",
        "\n",
        "axes[0].set_ylabel(\"Train accuracy\")\n",
        "axes[1].set_ylabel(\"Test accuracy\")\n",
        "\n",
        "axes[0].set_title(\"Train quality in 5 runs\")\n",
        "axes[1].set_title(\"Test quality in 5 runs\")\n",
        "\n",
        "axes[0].grid(True)\n",
        "axes[1].grid(True)\n",
        "\n",
        "fig.tight_layout()\n",
        "plt.show()"
      ]
    },
    {
      "cell_type": "markdown",
      "metadata": {
        "id": "ot77ROvRbO_A"
      },
      "source": [
        "#### `4 слоя`\n",
        "\n",
        "Выполните тут тот же код, что и в предыдущем пункте, но только уже с 4 слоями в сети."
      ]
    },
    {
      "cell_type": "code",
      "execution_count": 134,
      "metadata": {
        "id": "bhB_aHFtbO_B"
      },
      "outputs": [],
      "source": [
        "init_vars = [5e-3, 1e-2, 1e-1, 'Kaiming', 'Xavier']"
      ]
    },
    {
      "cell_type": "code",
      "execution_count": 135,
      "metadata": {
        "id": "ec4KDHsIbO_B"
      },
      "outputs": [],
      "source": [
        "accs_train = np.zeros((5, 5))\n",
        "accs_test = np.zeros((5, 5))"
      ]
    },
    {
      "cell_type": "code",
      "execution_count": 136,
      "metadata": {
        "id": "_hMNFecfbO_B"
      },
      "outputs": [],
      "source": [
        "### your code here\n",
        "for i in range(5):\n",
        "    for j in range(5):\n",
        "        network = make_network(input_size=X_train.shape[1],\n",
        "                               output_size=10,\n",
        "                               n_layers=4,\n",
        "                               hidden_layers_size=32)\n",
        "        initialize_network(network, init_vars[i])\n",
        "        weights = get_weights(network)\n",
        "        cb = Callback(network, X_train, y_train, X_test, y_test, print=False)\n",
        "        res = minimize(compute_loss_grad, weights,\n",
        "                       args=[network, X_train, y_train],\n",
        "                       method=\"L-BFGS-B\",\n",
        "                       jac=True,\n",
        "                       callback=cb.call)\n",
        "        accs_train[i, j] = cb.train_acc[-1]\n",
        "        accs_test[i, j] = cb.test_acc[-1]"
      ]
    },
    {
      "cell_type": "markdown",
      "metadata": {
        "id": "WkTMsEPrbO_B"
      },
      "source": [
        "Построим боксплоты полученного качества (горизонтальная линия в каждом столбце — среднее, прямоугольник показывает разброс)."
      ]
    },
    {
      "cell_type": "code",
      "execution_count": 137,
      "metadata": {
        "colab": {
          "base_uri": "https://localhost:8080/",
          "height": 807
        },
        "id": "FGbjzukqbO_B",
        "outputId": "e94fbba9-0ae4-48a7-e45f-3fd886fd9288",
        "scrolled": false
      },
      "outputs": [
        {
          "output_type": "display_data",
          "data": {
            "text/plain": [
              "<Figure size 1000x800 with 2 Axes>"
            ],
            "image/png": "[encoded data removed]"
          },
          "metadata": {}
        }
      ],
      "source": [
        "init_vars_for_plot = [(x if isinstance(x, str) else fr\"$\\sigma = {x}$\") for x in init_vars]\n",
        "\n",
        "fig, axes = plt.subplots(2, 1, figsize=(10, 8))\n",
        "\n",
        "axes[0].boxplot(accs_train.T, showfliers=False)\n",
        "axes[1].boxplot(accs_test.T, showfliers=False)\n",
        "\n",
        "axes[0].set_xlabel(\"Initialization\")\n",
        "axes[1].set_xlabel(\"Initialization\")\n",
        "\n",
        "axes[0].set_ylabel(\"Train accuracy\")\n",
        "axes[1].set_ylabel(\"Test accuracy\")\n",
        "\n",
        "axes[0].set_title(\"Train quality in 5 runs\")\n",
        "axes[1].set_title(\"Test quality in 5 runs\")\n",
        "\n",
        "axes[0].grid(True)\n",
        "axes[1].grid(True)\n",
        "\n",
        "fig.tight_layout()\n",
        "plt.show()"
      ]
    },
    {
      "cell_type": "markdown",
      "metadata": {
        "id": "ErUlMQ2_bO_C"
      },
      "source": [
        "#### `5 слоев`\n",
        "\n",
        "Выполните тут тот же код, что и в предыдущем пункте, но только уже с 5 слоями в сети."
      ]
    },
    {
      "cell_type": "code",
      "execution_count": 138,
      "metadata": {
        "id": "1qVDpxmZbO_C"
      },
      "outputs": [],
      "source": [
        "init_vars = [1e-2, 1e-1, 1e0, 'Kaiming', 'Xavier']"
      ]
    },
    {
      "cell_type": "code",
      "execution_count": 139,
      "metadata": {
        "id": "I4ijrbtLbO_C"
      },
      "outputs": [],
      "source": [
        "accs_train = np.zeros((5, 5))\n",
        "accs_test = np.zeros((5, 5))"
      ]
    },
    {
      "cell_type": "code",
      "execution_count": 140,
      "metadata": {
        "id": "TBBNAF02bO_D"
      },
      "outputs": [],
      "source": [
        "### your code here\n",
        "for i in range(5):\n",
        "    for j in range(5):\n",
        "        network = make_network(input_size=X_train.shape[1],\n",
        "                               output_size=10,\n",
        "                               n_layers=5,\n",
        "                               hidden_layers_size=32)\n",
        "        initialize_network(network, init_vars[i])\n",
        "        weights = get_weights(network)\n",
        "        cb = Callback(network, X_train, y_train, X_test, y_test, print=False)\n",
        "        res = minimize(compute_loss_grad, weights,\n",
        "                       args=[network, X_train, y_train],\n",
        "                       method=\"L-BFGS-B\",\n",
        "                       jac=True,\n",
        "                       callback=cb.call)\n",
        "        accs_train[i, j] = cb.train_acc[-1]\n",
        "        accs_test[i, j] = cb.test_acc[-1]"
      ]
    },
    {
      "cell_type": "markdown",
      "metadata": {
        "id": "Ksno71UNbO_D"
      },
      "source": [
        "Построим боксплоты полученного качества (горизонтальная линия в каждом столбце — среднее, прямоугольник показывает разброс)."
      ]
    },
    {
      "cell_type": "code",
      "execution_count": 141,
      "metadata": {
        "colab": {
          "base_uri": "https://localhost:8080/",
          "height": 807
        },
        "id": "8h8bguEtbO_D",
        "scrolled": false,
        "outputId": "40a4b84b-c191-4bac-b76d-b365764e9af5"
      },
      "outputs": [
        {
          "output_type": "display_data",
          "data": {
            "text/plain": [
              "<Figure size 1000x800 with 2 Axes>"
            ],
            "image/png": "[encoded data removed]"
          },
          "metadata": {}
        }
      ],
      "source": [
        "init_vars_for_plot = [(x if isinstance(x, str) else fr\"$\\sigma = {x}$\") for x in init_vars]\n",
        "\n",
        "fig, axes = plt.subplots(2, 1, figsize=(10, 8))\n",
        "\n",
        "axes[0].boxplot(accs_train.T, showfliers=False)\n",
        "axes[1].boxplot(accs_test.T, showfliers=False)\n",
        "\n",
        "axes[0].set_xlabel(\"Initialization\")\n",
        "axes[1].set_xlabel(\"Initialization\")\n",
        "\n",
        "axes[0].set_ylabel(\"Train accuracy\")\n",
        "axes[1].set_ylabel(\"Test accuracy\")\n",
        "\n",
        "axes[0].set_title(\"Train quality in 5 runs\")\n",
        "axes[1].set_title(\"Test quality in 5 runs\")\n",
        "\n",
        "axes[0].grid(True)\n",
        "axes[1].grid(True)\n",
        "\n",
        "fig.tight_layout()\n",
        "plt.show()"
      ]
    },
    {
      "cell_type": "markdown",
      "metadata": {
        "id": "XfWidaG9bO_E"
      },
      "source": [
        "Дайте развёрнутый ответ на вопросы (в этой же ячейке):\n",
        "* Как отличаются качество на обучении и контроле и устойчивость процесса обучения при различных инициализациях?\n",
        "* Какие инициализации помогают обучать более глубокие сети?\n",
        "\n",
        "__Ответы:__\n",
        "\n",
        "1. Видно, что на обучении качество нигде не менялось, кроме случайной инициализации из стандартного нормального распределения при 5 слоях, где качество сильно упало. На контроле же мы видим, что инициализации Кейминга и Ксавьера наиболее устойчивы. Ксавьер показывает лучшее качество.\n",
        "Устойчивость обучения при разных инициализациях зависит от числа слоёв. Например, при 3 слоях стандартное нормальное распределение наиболее усточиво в данных экспериментах. Однако на 5 слоях картина меняется в худшую сторону.  \n",
        "\n",
        "2. Инициализации Кейминга и Ксавьера помогают обучать более глубокие нейронные сети для соответствующих функций активации, так как они основаны на препятствии затуханию градиента. Обычная случайная инициализация не гарантирует стабильность градиента в глубоких нейронных сетях."
      ]
    },
    {
      "cell_type": "markdown",
      "metadata": {
        "id": "fC9Ka7KQbO_E"
      },
      "source": [
        "Теперь сравним скорость обучения при различных инициализациях. Создайте два списка списков `accs_test_on_iterations`, `accs_train_on_iterations` в каждом из которых в позиции `[i]` (см. описание `i` в предыдущем пункте) будет лежать список из значений `accuracy` на тестовой и обучающей выборках соотвественно, полученных во время обучения модели. Количество слоев в сети зафиксируйте равным 4."
      ]
    },
    {
      "cell_type": "code",
      "execution_count": 142,
      "metadata": {
        "id": "59BvKQ7CbO_E"
      },
      "outputs": [],
      "source": [
        "init_vars = [1e-3, 1e-2, 1e-1, 'Kaiming', 'Xavier']"
      ]
    },
    {
      "cell_type": "code",
      "execution_count": 143,
      "metadata": {
        "id": "HdFMUKjabO_E"
      },
      "outputs": [],
      "source": [
        "accs_test_on_iterations = []\n",
        "accs_train_on_iterations = []"
      ]
    },
    {
      "cell_type": "code",
      "execution_count": 144,
      "metadata": {
        "id": "yvFd7BFAbO_E"
      },
      "outputs": [],
      "source": [
        "### your code here\n",
        "for i in range(5):\n",
        "    network = make_network(input_size=X_train.shape[1],\n",
        "                            output_size=10,\n",
        "                            n_layers=4,\n",
        "                            hidden_layers_size=32)\n",
        "    initialize_network(network, init_vars[i])\n",
        "    weights = get_weights(network)\n",
        "    cb = Callback(network, X_train, y_train, X_test, y_test, print=False)\n",
        "    res = minimize(compute_loss_grad, weights,\n",
        "                    args=[network, X_train, y_train],\n",
        "                    method=\"L-BFGS-B\",\n",
        "                    jac=True,\n",
        "                    callback=cb.call)\n",
        "    accs_train_on_iterations.append(cb.train_acc)\n",
        "    accs_test_on_iterations.append(cb.test_acc)"
      ]
    },
    {
      "cell_type": "code",
      "execution_count": 145,
      "metadata": {
        "colab": {
          "base_uri": "https://localhost:8080/",
          "height": 507
        },
        "id": "Xv6jJOdYbO_F",
        "outputId": "7f731cdf-633a-435f-865f-750c14e2ca83"
      },
      "outputs": [
        {
          "output_type": "display_data",
          "data": {
            "text/plain": [
              "<Figure size 1000x500 with 1 Axes>"
            ],
            "image/png": "[encoded data removed]"
          },
          "metadata": {}
        }
      ],
      "source": [
        "init_vars_for_plot = [(x if isinstance(x, str) else fr\"$\\sigma = {x}$\") for x in init_vars]\n",
        "fig, ax = plt.subplots(1, 1, figsize=(10, 5))\n",
        "\n",
        "for idx, label in enumerate(init_vars_for_plot):\n",
        "    ax.plot(accs_test_on_iterations[idx], label=label)\n",
        "ax.set_title(\"Test quality for different initializations\")\n",
        "ax.set_xlabel(\"Epoch number\")\n",
        "ax.set_ylabel(\"Test accuracy\")\n",
        "ax.grid(True)\n",
        "ax.legend()\n",
        "\n",
        "fig.tight_layout()\n",
        "plt.show()"
      ]
    },
    {
      "cell_type": "markdown",
      "metadata": {
        "id": "VeE39cTgbO_F"
      },
      "source": [
        "Дайте развёрнутый ответ на вопросы (в этой же ячейке):\n",
        "* Как меняется скорость обучения в зависимости от выбранной инициализации?\n",
        "\n",
        "__Ответы:__\n",
        "\n",
        "1. Быстрее всего сходится сеть с инициализацией Кейминга, на втором месте - инициализация Ксавьера\n",
        "2. Слишком маленькая дисперсия показала ужасный результат, так как сеть вообще не обучалась"
      ]
    },
    {
      "cell_type": "markdown",
      "metadata": {
        "id": "zbh9p0tIbO_F"
      },
      "source": [
        "### `Эксперименты c различными функциями активации (0.6 балла)`"
      ]
    },
    {
      "cell_type": "markdown",
      "metadata": {
        "id": "FT8m1oF4bO_F"
      },
      "source": [
        "Проверим теперь, с какой функцией активации нейронная сеть будет обучаться лучше.\n",
        "\n",
        "В этом пункте вам предлагается попробовать обучить несколько нейронных сетей с различными функциями активации.\n",
        "\n",
        "Для этого нам нужно реализовать еще 2 слоя: для функций активации `Tanh` и `Sigmoid`."
      ]
    },
    {
      "cell_type": "code",
      "execution_count": 146,
      "metadata": {
        "id": "7InaLtYjbO_F"
      },
      "outputs": [],
      "source": [
        "class Tanh:\n",
        "    \"\"\"\n",
        "    tanh(y) = (e^y - e^(-y)) / (e^y + e^(-y))\n",
        "    Используйте функцию np.tanh для подсчета гиперболического тангенса.\n",
        "    Вы можете сами реализовать подсчет tanh, но тогда вам нужно устойчиво его вычислять.\n",
        "    \"\"\"\n",
        "    def __init__(self):\n",
        "        self.params = [] # Tanh has no parameters\n",
        "\n",
        "    def forward(self, input):\n",
        "        \"\"\"\n",
        "        Apply elementwise Tanh to [batch, num_units] matrix\n",
        "        \"\"\"\n",
        "        self.tanh = np.tanh(input)\n",
        "        return self.tanh\n",
        "\n",
        "    def backward(self, grad_output):\n",
        "        \"\"\"`\n",
        "        Compute gradient of loss w.r.t. Tanh input\n",
        "        grad_output shape: [batch, num_units]\n",
        "        output 1 shape: [batch, num_units]\n",
        "        output 2: []\n",
        "        \"\"\"\n",
        "        return grad_output * (1 - self.tanh ** 2), np.array([])\n",
        "\n",
        "    def __repr__(self):\n",
        "        return 'Tanh()'"
      ]
    },
    {
      "cell_type": "code",
      "execution_count": 147,
      "metadata": {
        "id": "ESTBlL7XbO_G"
      },
      "outputs": [],
      "source": [
        "from scipy.special import expit\n",
        "\n",
        "class Sigmoid:\n",
        "    \"\"\"\n",
        "    sigmoid(y) = 1 / (1 + e^(-y))\n",
        "    Используйте функцию expit для подсчета сигмоиды.\n",
        "    Вы можете сами реализовать подсчет сигмоиды, но тогда вам нужно устойчиво ее вычислять.\n",
        "    \"\"\"\n",
        "    def __init__(self):\n",
        "        self.params = [] # Sigmoid has no parameters\n",
        "\n",
        "    def forward(self, input):\n",
        "        \"\"\"\n",
        "        Apply elementwise Sigmoid to [batch, num_units] matrix\n",
        "        \"\"\"\n",
        "        self.sigmoid = expit(input)\n",
        "        return self.sigmoid\n",
        "\n",
        "    def backward(self, grad_output):\n",
        "        \"\"\"\n",
        "        Compute gradient of loss w.r.t. Sigmoid input\n",
        "        grad_output shape: [batch, num_units]\n",
        "        output 1 shape: [batch, num_units]\n",
        "        output 2: []\n",
        "        \"\"\"\n",
        "        return grad_output * self.sigmoid * (1 - self.sigmoid), np.array([])\n",
        "\n",
        "    def __repr__(self):\n",
        "        return 'Sigmoid()'"
      ]
    },
    {
      "cell_type": "markdown",
      "metadata": {
        "id": "NB8SadEubO_G"
      },
      "source": [
        "Теперь попробуйте для каждой из 3 функций активации обучить нейронную сеть несколько раз. Число слоев зафиксируйте равным 3. В случае `Tanh` и `Sigmoid` используйте инициализацию `Xavier`, а в случае `ReLU` используйте инициализацию `Kaiming`."
      ]
    },
    {
      "cell_type": "markdown",
      "metadata": {
        "id": "2S9UB1XYbO_G"
      },
      "source": [
        "Заполните матрицы `accs_train` и `accs_test`. В позиции `[i, j]` должна стоять величина доли правильных ответов сети при $j$-м запуске (все запуски идентичны) с функцией активации $ReLU$ при $i = 0$, с функцией активации $Tanh$ при $i = 1$ и с функцией активации $Sigmoid$ при $i = 2$."
      ]
    },
    {
      "cell_type": "code",
      "execution_count": 148,
      "metadata": {
        "id": "UYVoOWHZbO_H"
      },
      "outputs": [],
      "source": [
        "act_func_vars = ['Tanh', 'Sigmoid', 'ReLU']\n",
        "init_for_act_funcs = ['Xavier', 'Xavier', 'Kaiming']"
      ]
    },
    {
      "cell_type": "code",
      "execution_count": 149,
      "metadata": {
        "id": "3cpnnefLbO_H"
      },
      "outputs": [],
      "source": [
        "accs_train = np.zeros((3, 5))\n",
        "accs_test = np.zeros((3, 5))"
      ]
    },
    {
      "cell_type": "code",
      "execution_count": 150,
      "metadata": {
        "id": "KT53el0CbO_H"
      },
      "outputs": [],
      "source": [
        "### your code here\n",
        "for i in range(3):\n",
        "    for j in range(5):\n",
        "        network = make_network(input_size=X_train.shape[1],\n",
        "                            output_size=10,\n",
        "                            n_layers=3,\n",
        "                            hidden_layers_size=32,\n",
        "                            activation_class=globals()[act_func_vars[i]])\n",
        "        initialize_network(network, init_for_act_funcs[i])\n",
        "        weights = get_weights(network)\n",
        "        cb = Callback(network, X_train, y_train, X_test, y_test, print=False)\n",
        "        res = minimize(compute_loss_grad, weights,\n",
        "                        args=[network, X_train, y_train],\n",
        "                        method=\"L-BFGS-B\",\n",
        "                        jac=True,\n",
        "                        callback=cb.call)\n",
        "        accs_train[i, j] = cb.train_acc[-1]\n",
        "        accs_test[i, j] = cb.test_acc[-1]"
      ]
    },
    {
      "cell_type": "markdown",
      "metadata": {
        "id": "MEnD1VajbO_H"
      },
      "source": [
        "Построим боксплоты полученного качества (горизонтальная линия в каждом столбце — среднее, прямоугольник показывает разброс)."
      ]
    },
    {
      "cell_type": "code",
      "execution_count": 151,
      "metadata": {
        "colab": {
          "base_uri": "https://localhost:8080/",
          "height": 507
        },
        "id": "knhHFseubO_H",
        "outputId": "73b56c6f-ff27-4d2f-b68c-d6b49a881eef"
      },
      "outputs": [
        {
          "output_type": "display_data",
          "data": {
            "text/plain": [
              "<Figure size 1000x500 with 1 Axes>"
            ],
            "image/png": "[encoded data removed]"
          },
          "metadata": {}
        }
      ],
      "source": [
        "fig, ax = plt.subplots(1, 1, figsize=(10, 5))\n",
        "\n",
        "ax.boxplot(accs_test.T, labels=act_func_vars, showfliers=False)\n",
        "\n",
        "ax.set_title(\"Test quality in 5 runs\")\n",
        "ax.set_xlabel(\"Activation function\")\n",
        "ax.set_ylabel(\"Test accuracy\")\n",
        "ax.grid(True)\n",
        "\n",
        "fig.tight_layout()\n",
        "plt.show()"
      ]
    },
    {
      "cell_type": "markdown",
      "metadata": {
        "id": "45dbWUTBbO_I"
      },
      "source": [
        "Дайте развёрнутый ответ на вопросы (в этой же ячейке):\n",
        "* Как отличаются качество на обучении и контроле и устойчивость процесса обучения при различных функциях активации?\n",
        "\n",
        "__Ответы:__\n",
        "\n",
        "Лучше всего себя показала функция активации ReLU, что и не удивительно, так как она более способствует решению проблемы затухания градиента, нежели сигмоида или гиперболический тангенс. Видно, что процесс обучения был самым устойчивым для функции активации ReLU. Самым неустойчивым - для сигмоиды."
      ]
    },
    {
      "cell_type": "markdown",
      "metadata": {
        "id": "5aJjeLuObO_I"
      },
      "source": [
        "\\* Несколько фрагментов кода в задании написаны на основе материалов [курса по глубинному обучению на ФКН НИУ ВШЭ](https://www.hse.ru/ba/ami/courses/205504078.html)"
      ]
    },
    {
      "cell_type": "markdown",
      "metadata": {
        "id": "aSSCwGbqbO_I"
      },
      "source": [
        "### `Реализация метода оптимизации (1.4 балла)`"
      ]
    },
    {
      "cell_type": "markdown",
      "metadata": {
        "id": "o5_iKjTgbO_I"
      },
      "source": [
        "В этой части задания реализуйте метод оптимизации SGD + momentum. Упрощённая версия более общего алгоритма [отсюда](https://pytorch.org/docs/stable/generated/torch.optim.SGD.html):\n",
        "\n",
        "$$\n",
        "\\begin{aligned}\n",
        "    &\\rule{70mm}{0.4pt}                                                             \\\\\n",
        "    &\\textbf{input}      : \\gamma \\text{ (lr)}, \\: \\theta_0 \\text{ (params)}, \\: X \\text{ (data)},       \\\\\n",
        "    &\\hspace{13mm} \\: f(\\theta) \\text{ (objective)}, \\:\\mu \\text{ (momentum)}       \\\\[-1.ex]\n",
        "    &\\rule{70mm}{0.4pt}                                                             \\\\\n",
        "    &\\textbf{for} \\: t=1 \\: \\textbf{to} \\: \\ldots \\: \\textbf{do}                    \\\\\n",
        "    &\\hspace{5mm}\\mathcal{X} \\leftarrow \\texttt{list\\_of\\_random\\_batches}(X)\\\\\n",
        "    &\\hspace{5mm}\\textbf{for} \\: i=1 \\: \\textbf{to} \\: \\ldots \\: \\textbf{do}                    \\\\\n",
        "    &\\hspace{10mm}g_t\\leftarrow   \\nabla_{\\theta} f_t (\\theta_{t-1},\\mathcal{X}_i)      \\\\\n",
        "    &\\hspace{10mm}\\textbf{if} \\: \\mu \\neq 0                                          \\\\\n",
        "    &\\hspace{15mm}\\textbf{if} \\: t > 1                                              \\\\\n",
        "    &\\hspace{20mm} \\textbf{b}_t \\leftarrow \\mu \\textbf{b}_{t-1} + g_t               \\\\\n",
        "    &\\hspace{15mm}\\textbf{else}                                                     \\\\\n",
        "    &\\hspace{20mm} \\textbf{b}_t \\leftarrow g_t                                      \\\\\n",
        "    &\\hspace{15mm} g_t  \\leftarrow  \\textbf{b}_t                                     \\\\\n",
        "    &\\hspace{10mm}\\theta_t \\leftarrow \\theta_{t-1} - \\gamma g_t                      \\\\[-1.ex]\n",
        "    &\\rule{70mm}{0.4pt}                                                             \\\\[-1.ex]\n",
        "    &\\bf{return} \\:  \\theta_t                                                       \\\\[-1.ex]\n",
        "    &\\rule{70mm}{0.4pt}                                                             \\\\[-1.ex]\n",
        "\\end{aligned}\n",
        "$$\n",
        "\n",
        "Проще всего будет написать `custom minimizer` (смотри [документацию scipy](https://docs.scipy.org/doc/scipy/reference/generated/scipy.optimize.minimize.html))."
      ]
    },
    {
      "cell_type": "code",
      "execution_count": 152,
      "metadata": {
        "id": "Y7EkLfrQbO_J"
      },
      "outputs": [],
      "source": [
        "from scipy.optimize import OptimizeResult\n",
        "\n",
        "\n",
        "def SGD(fun, x0, args, **kwargs) -> OptimizeResult:\n",
        "    callback = kwargs['callback']   # feed weights from each iteration to update network and log metrics\n",
        "    mu = kwargs['momentum']\n",
        "    n_iter = kwargs['n_iter']\n",
        "    gamma = kwargs['lr']\n",
        "    jac = kwargs['jac']\n",
        "    batch_size = kwargs['batch_size']\n",
        "\n",
        "    net, X, y = args\n",
        "\n",
        "    grad = None\n",
        "    iter = 0\n",
        "\n",
        "    while True:\n",
        "        batches = np.arange(X.shape[0])\n",
        "        np.random.shuffle(batches)\n",
        "        for i in range(0, batches.shape[0], batch_size):\n",
        "            if iter >= n_iter:\n",
        "                return OptimizeResult({'x': x0, 'success': True})\n",
        "\n",
        "            if i + batch_size > batches.shape[0]:\n",
        "                i = batches.shape[0] - batch_size\n",
        "            if jac:\n",
        "                grad_batch = fun(x0, [net, X[batches[i : i + batch_size], :], y[batches[i : i + batch_size]]])[1]\n",
        "            else:\n",
        "                return OptimizeResult({'x': x0, 'success': False})\n",
        "\n",
        "            if grad is None:\n",
        "                grad = grad_batch\n",
        "\n",
        "            if mu != 0 and iter > 0:\n",
        "                grad = mu * grad + grad_batch\n",
        "            else:\n",
        "                grad = grad_batch\n",
        "\n",
        "            x0 = x0 - gamma * grad\n",
        "            callback(x0)\n",
        "            iter += 1"
      ]
    },
    {
      "cell_type": "code",
      "source": [
        "print(X.shape)"
      ],
      "metadata": {
        "colab": {
          "base_uri": "https://localhost:8080/"
        },
        "id": "iJQZ7vTflZ3i",
        "outputId": "b2d10caf-f98a-489e-b5bd-71c59877ed4a"
      },
      "execution_count": 153,
      "outputs": [
        {
          "output_type": "stream",
          "name": "stdout",
          "text": [
            "(1797, 64)\n"
          ]
        }
      ]
    },
    {
      "cell_type": "markdown",
      "metadata": {
        "id": "YIBDrLXPbO_J"
      },
      "source": [
        "**Задание 1. (0.5 балла)** Продемонстрируйте правильную работу метода оптимизации, получив `test_accuracy>=0.9`."
      ]
    },
    {
      "cell_type": "code",
      "execution_count": 154,
      "metadata": {
        "id": "P7fhigRZbO_J",
        "colab": {
          "base_uri": "https://localhost:8080/"
        },
        "outputId": "335fa8f9-ed41-44dc-aaac-4b49512b8c7e"
      },
      "outputs": [
        {
          "output_type": "stream",
          "name": "stdout",
          "text": [
            "Test accuracy:  0.96\n"
          ]
        }
      ],
      "source": [
        "# your code is here\n",
        "network = make_network(input_size=X_train.shape[1],\n",
        "                       output_size=10,\n",
        "                       n_layers=3,\n",
        "                       hidden_layers_size=32,\n",
        "                       activation_class=ReLU)\n",
        "initialize_network(network, 'Kaiming')\n",
        "weights = get_weights(network)\n",
        "cb = Callback(network, X_train, y_train, X_test, y_test, print=False)\n",
        "res = SGD(compute_loss_grad, weights,\n",
        "          args=[network, X_train, y_train],\n",
        "          method=SGD,\n",
        "          jac=True,\n",
        "          callback=cb.call,\n",
        "          n_iter=5000,\n",
        "          momentum=0.9,\n",
        "          lr=0.01,\n",
        "          batch_size=64)\n",
        "print('Test accuracy: ', cb.test_acc[-1])"
      ]
    },
    {
      "cell_type": "code",
      "source": [
        "res['success']"
      ],
      "metadata": {
        "colab": {
          "base_uri": "https://localhost:8080/"
        },
        "id": "jEfrmIi3m_uV",
        "outputId": "c1959b6b-219c-4e57-cc2b-313c845f86c9"
      },
      "execution_count": 155,
      "outputs": [
        {
          "output_type": "execute_result",
          "data": {
            "text/plain": [
              "True"
            ]
          },
          "metadata": {},
          "execution_count": 155
        }
      ]
    },
    {
      "cell_type": "markdown",
      "metadata": {
        "id": "ZAXOmTsxbO_J"
      },
      "source": [
        "**Задание 2. (0.8 балла)** Сравните три алгоритма:\n",
        "1. L-BFGS-B\n",
        "2. SGD\n",
        "3. SGD + momentum\n",
        "\n",
        "Для этого одновременно переберите следующие гиперпараметры:\n",
        "- значения `lr` на отрезке `[1e-3, 1e-1]` по логарифмической сетке\n",
        "- два значения `momentum`: `0` и `0.9`\n",
        "- значения `batch_size`: `8` и `32`\n",
        "\n",
        "В каждом запуске сохраняйте три метрики: итоговое accuracy на тесте и на трейне и время обучения.\n",
        "\n",
        "Для каждого из трёх алгоритмов выберите лучшие `lr` и `batch_size` по `test_accuracy`. Постройте для них кривые обучения (пример ниже). Сделайте выводы.\n",
        "\n",
        "![](comparison.svg)"
      ]
    },
    {
      "cell_type": "code",
      "execution_count": 169,
      "metadata": {
        "id": "u3uxW7yqbO_K"
      },
      "outputs": [],
      "source": [
        "from time import time\n",
        "from tqdm import tqdm\n",
        "\n",
        "lrs = [1e-3, 2e-2, 1e-2, 2e-1, 1e-1]\n",
        "batches = np.array([8, 32])\n",
        "momentums = np.array([0, 0.9])\n",
        "n_iterations = 5000"
      ]
    },
    {
      "cell_type": "code",
      "source": [
        "results = {'L-BFGS-B': {'test_acc': [],\n",
        "                        'train_acc': [],\n",
        "                        'time': []},\n",
        "           'SGD': {'test_acc': [],\n",
        "                   'train_acc': [],\n",
        "                   'time': [],\n",
        "                   'params': []},\n",
        "           'SGD_momentum': {'test_acc': [],\n",
        "                            'train_acc': [],\n",
        "                            'time': [],\n",
        "                            'params': []}\n",
        "           }"
      ],
      "metadata": {
        "id": "Ou5UqoCXhpX0"
      },
      "execution_count": 170,
      "outputs": []
    },
    {
      "cell_type": "code",
      "source": [
        "# L-BFGS-B\n",
        "network = make_network(input_size=X_train.shape[1],\n",
        "                       output_size=10,\n",
        "                       n_layers=3,\n",
        "                       hidden_layers_size=32,\n",
        "                       activation_class=ReLU)\n",
        "initialize_network(network, 'Kaiming')\n",
        "weights = get_weights(network)\n",
        "cb = Callback(network, X_train, y_train, X_test, y_test, print=False)\n",
        "\n",
        "start_time = time()\n",
        "res = minimize(compute_loss_grad, weights,\n",
        "          args=[network, X_train, y_train],\n",
        "          method='L-BFGS-B',\n",
        "          jac=True,\n",
        "          callback=cb.call)\n",
        "result_time = time() - start_time\n",
        "results['L-BFGS-B']['test_acc'].append(cb.test_acc[-1])\n",
        "results['L-BFGS-B']['train_acc'].append(cb.train_acc[-1])\n",
        "results['L-BFGS-B']['time'].append(result_time)"
      ],
      "metadata": {
        "id": "lZChi5aZRPt6"
      },
      "execution_count": 171,
      "outputs": []
    },
    {
      "cell_type": "code",
      "source": [
        "# SGD and SGD momentum\n",
        "for lr in tqdm(lrs):\n",
        "    for momentum in momentums:\n",
        "        for batch in batches:\n",
        "            network = make_network(input_size=X_train.shape[1],\n",
        "                        output_size=10,\n",
        "                        n_layers=3,\n",
        "                        hidden_layers_size=32,\n",
        "                        activation_class=ReLU)\n",
        "            initialize_network(network, 'Kaiming')\n",
        "            weights = get_weights(network)\n",
        "            cb = Callback(network, X_train, y_train, X_test, y_test, print=False)\n",
        "\n",
        "            start_time = time()\n",
        "            res = SGD(compute_loss_grad, weights,\n",
        "                    args=[network, X_train, y_train],\n",
        "                    method=SGD,\n",
        "                    jac=True,\n",
        "                    callback=cb.call,\n",
        "                    n_iter=n_iterations,\n",
        "                    momentum=momentum,\n",
        "                    lr=lr,\n",
        "                    batch_size=batch)\n",
        "            result_time = time() - start_time\n",
        "            if not momentum:\n",
        "                name = 'SGD'\n",
        "            else:\n",
        "                name = 'SGD_momentum'\n",
        "\n",
        "            results[name]['test_acc'].append(cb.test_acc[-1])\n",
        "            results[name]['train_acc'].append(cb.train_acc[-1])\n",
        "            results[name]['time'].append(result_time)\n",
        "            results[name]['params'].append({'lr': lr,\n",
        "                                            'batch_size': batch,\n",
        "                                            'momentum': momentum,\n",
        "                                            'n_iter': n_iterations})"
      ],
      "metadata": {
        "colab": {
          "base_uri": "https://localhost:8080/"
        },
        "id": "EHU68feOTpu0",
        "outputId": "4db7f81e-ef02-40b2-922e-b32f115b7c7a"
      },
      "execution_count": 172,
      "outputs": [
        {
          "output_type": "stream",
          "name": "stderr",
          "text": [
            "100%|██████████| 5/5 [09:24<00:00, 112.81s/it]\n"
          ]
        }
      ]
    },
    {
      "cell_type": "code",
      "source": [
        "# L-BFGS-B\n",
        "\n",
        "print('Test accuracy:', results['L-BFGS-B']['test_acc'][-1])\n",
        "print('Train accuracy:', results['L-BFGS-B']['train_acc'][-1])\n",
        "print('Time:', results['L-BFGS-B']['time'][-1])"
      ],
      "metadata": {
        "colab": {
          "base_uri": "https://localhost:8080/"
        },
        "id": "PyPzrggjtVWY",
        "outputId": "c2da0a64-ff45-4997-b58b-595bf8b508ea"
      },
      "execution_count": 173,
      "outputs": [
        {
          "output_type": "stream",
          "name": "stdout",
          "text": [
            "Test accuracy: 0.9555555555555556\n",
            "Train accuracy: 1.0\n",
            "Time: 0.7278311252593994\n"
          ]
        }
      ]
    },
    {
      "cell_type": "code",
      "source": [
        "# SGD\n",
        "\n",
        "print('Best test accuracy:', np.max(np.array(results['SGD']['test_acc'])))\n",
        "print('Best train accuracy:', np.max(np.array(results['SGD']['train_acc'])))\n",
        "print('Fastest time:', np.min(np.array(results['SGD']['time'])))"
      ],
      "metadata": {
        "colab": {
          "base_uri": "https://localhost:8080/"
        },
        "id": "95RqcX9Jud3v",
        "outputId": "ac967e0a-ca18-4053-98a0-e3c6a90c48da"
      },
      "execution_count": 174,
      "outputs": [
        {
          "output_type": "stream",
          "name": "stdout",
          "text": [
            "Best test accuracy: 0.9688888888888889\n",
            "Best train accuracy: 1.0\n",
            "Fastest time: 26.762004852294922\n"
          ]
        }
      ]
    },
    {
      "cell_type": "code",
      "source": [
        "# SGD\n",
        "\n",
        "index_sgd = np.argmax(np.array(results['SGD']['test_acc']))\n",
        "\n",
        "print('Best learning rate:', results['SGD']['params'][index_sgd]['lr'])\n",
        "print('Best batch size:', results['SGD']['params'][index_sgd]['batch_size'])"
      ],
      "metadata": {
        "colab": {
          "base_uri": "https://localhost:8080/"
        },
        "id": "L8ArCPuTvzXi",
        "outputId": "eab932fa-8c9f-458d-e49d-abc3da035232"
      },
      "execution_count": 175,
      "outputs": [
        {
          "output_type": "stream",
          "name": "stdout",
          "text": [
            "Best learning rate: 0.01\n",
            "Best batch size: 8\n"
          ]
        }
      ]
    },
    {
      "cell_type": "code",
      "source": [
        "# SGD with momentum\n",
        "\n",
        "print('Best test accuracy:', np.max(np.array(results['SGD_momentum']['test_acc'])))\n",
        "print('Best train accuracy:', np.max(np.array(results['SGD_momentum']['train_acc'])))\n",
        "print('Fastest time:', np.min(np.array(results['SGD_momentum']['time'])))"
      ],
      "metadata": {
        "colab": {
          "base_uri": "https://localhost:8080/"
        },
        "id": "S4IjRKI8vr1O",
        "outputId": "622cc0b9-5866-491e-ac0a-52a96daf7329"
      },
      "execution_count": 176,
      "outputs": [
        {
          "output_type": "stream",
          "name": "stdout",
          "text": [
            "Best test accuracy: 0.9466666666666667\n",
            "Best train accuracy: 1.0\n",
            "Fastest time: 26.397481203079224\n"
          ]
        }
      ]
    },
    {
      "cell_type": "code",
      "source": [
        "# SGD with momentum\n",
        "\n",
        "index_sgdm = np.argmax(np.array(results['SGD_momentum']['test_acc']))\n",
        "\n",
        "print('Best learning rate:', results['SGD_momentum']['params'][index_sgdm]['lr'])\n",
        "print('Best batch size:', results['SGD_momentum']['params'][index_sgdm]['batch_size'])"
      ],
      "metadata": {
        "colab": {
          "base_uri": "https://localhost:8080/"
        },
        "id": "vs5oCM7zwUFr",
        "outputId": "b5fe5c59-942d-4ba9-e9e7-587eb61f82db"
      },
      "execution_count": 177,
      "outputs": [
        {
          "output_type": "stream",
          "name": "stdout",
          "text": [
            "Best learning rate: 0.001\n",
            "Best batch size: 8\n"
          ]
        }
      ]
    },
    {
      "cell_type": "code",
      "source": [
        "results"
      ],
      "metadata": {
        "colab": {
          "base_uri": "https://localhost:8080/"
        },
        "id": "wAWsA1CowqWi",
        "outputId": "e34afef0-03cf-43aa-f990-f29de0297c5c"
      },
      "execution_count": 178,
      "outputs": [
        {
          "output_type": "execute_result",
          "data": {
            "text/plain": [
              "{'L-BFGS-B': {'test_acc': [0.9555555555555556],\n",
              "  'train_acc': [1.0],\n",
              "  'time': [0.7278311252593994]},\n",
              " 'SGD': {'test_acc': [0.9022222222222223,\n",
              "   0.9066666666666666,\n",
              "   0.9533333333333334,\n",
              "   0.9666666666666667,\n",
              "   0.9688888888888889,\n",
              "   0.9377777777777778,\n",
              "   0.1,\n",
              "   0.08444444444444445,\n",
              "   0.1,\n",
              "   0.08222222222222222],\n",
              "  'train_acc': [0.9806978470675576,\n",
              "   0.9658500371195249,\n",
              "   0.9992576095025983,\n",
              "   1.0,\n",
              "   1.0,\n",
              "   1.0,\n",
              "   0.10244988864142539,\n",
              "   0.10616184112843356,\n",
              "   0.10244988864142539,\n",
              "   0.10467706013363029],\n",
              "  'time': [27.99001121520996,\n",
              "   39.8869423866272,\n",
              "   26.92080020904541,\n",
              "   28.116203546524048,\n",
              "   27.838063955307007,\n",
              "   29.182504415512085,\n",
              "   26.762004852294922,\n",
              "   28.304526805877686,\n",
              "   27.181432962417603,\n",
              "   27.776927709579468],\n",
              "  'params': [{'lr': 0.001, 'batch_size': 8, 'momentum': 0.0, 'n_iter': 5000},\n",
              "   {'lr': 0.001, 'batch_size': 32, 'momentum': 0.0, 'n_iter': 5000},\n",
              "   {'lr': 0.02, 'batch_size': 8, 'momentum': 0.0, 'n_iter': 5000},\n",
              "   {'lr': 0.02, 'batch_size': 32, 'momentum': 0.0, 'n_iter': 5000},\n",
              "   {'lr': 0.01, 'batch_size': 8, 'momentum': 0.0, 'n_iter': 5000},\n",
              "   {'lr': 0.01, 'batch_size': 32, 'momentum': 0.0, 'n_iter': 5000},\n",
              "   {'lr': 0.2, 'batch_size': 8, 'momentum': 0.0, 'n_iter': 5000},\n",
              "   {'lr': 0.2, 'batch_size': 32, 'momentum': 0.0, 'n_iter': 5000},\n",
              "   {'lr': 0.1, 'batch_size': 8, 'momentum': 0.0, 'n_iter': 5000},\n",
              "   {'lr': 0.1, 'batch_size': 32, 'momentum': 0.0, 'n_iter': 5000}]},\n",
              " 'SGD_momentum': {'test_acc': [0.9466666666666667,\n",
              "   0.9288888888888889,\n",
              "   0.08444444444444445,\n",
              "   0.08444444444444445,\n",
              "   0.08222222222222222,\n",
              "   0.9444444444444444,\n",
              "   0.08222222222222222,\n",
              "   0.10444444444444445,\n",
              "   0.10444444444444445,\n",
              "   0.08444444444444445],\n",
              "  'train_acc': [0.9992576095025983,\n",
              "   1.0,\n",
              "   0.10616184112843356,\n",
              "   0.10616184112843356,\n",
              "   0.10467706013363029,\n",
              "   0.9955456570155902,\n",
              "   0.10467706013363029,\n",
              "   0.09873793615441723,\n",
              "   0.09873793615441723,\n",
              "   0.10616184112843356],\n",
              "  'time': [27.07048773765564,\n",
              "   27.83996272087097,\n",
              "   26.397481203079224,\n",
              "   27.55913758277893,\n",
              "   27.26558518409729,\n",
              "   27.83437442779541,\n",
              "   27.414432048797607,\n",
              "   27.49780011177063,\n",
              "   27.093388080596924,\n",
              "   28.061009407043457],\n",
              "  'params': [{'lr': 0.001, 'batch_size': 8, 'momentum': 0.9, 'n_iter': 5000},\n",
              "   {'lr': 0.001, 'batch_size': 32, 'momentum': 0.9, 'n_iter': 5000},\n",
              "   {'lr': 0.02, 'batch_size': 8, 'momentum': 0.9, 'n_iter': 5000},\n",
              "   {'lr': 0.02, 'batch_size': 32, 'momentum': 0.9, 'n_iter': 5000},\n",
              "   {'lr': 0.01, 'batch_size': 8, 'momentum': 0.9, 'n_iter': 5000},\n",
              "   {'lr': 0.01, 'batch_size': 32, 'momentum': 0.9, 'n_iter': 5000},\n",
              "   {'lr': 0.2, 'batch_size': 8, 'momentum': 0.9, 'n_iter': 5000},\n",
              "   {'lr': 0.2, 'batch_size': 32, 'momentum': 0.9, 'n_iter': 5000},\n",
              "   {'lr': 0.1, 'batch_size': 8, 'momentum': 0.9, 'n_iter': 5000},\n",
              "   {'lr': 0.1, 'batch_size': 32, 'momentum': 0.9, 'n_iter': 5000}]}}"
            ]
          },
          "metadata": {},
          "execution_count": 178
        }
      ]
    },
    {
      "cell_type": "code",
      "source": [
        "# L-BFGS-B chart\n",
        "network = make_network(input_size=X_train.shape[1],\n",
        "                       output_size=10,\n",
        "                       n_layers=3,\n",
        "                       hidden_layers_size=32,\n",
        "                       activation_class=ReLU)\n",
        "initialize_network(network, 'Kaiming')\n",
        "weights = get_weights(network)\n",
        "cb = Callback(network, X_train, y_train, X_test, y_test, print=False)\n",
        "\n",
        "res = minimize(compute_loss_grad, weights,\n",
        "          args=[network, X_train, y_train],\n",
        "          method='L-BFGS-B',\n",
        "          jac=True,\n",
        "          callback=cb.call)\n",
        "\n",
        "fig, ax = plt.subplots(1, 1, figsize=(10, 5))\n",
        "\n",
        "ax.plot(cb.test_acc, label='Test')\n",
        "ax.plot(cb.train_acc, label='Train')\n",
        "ax.set_title(\"L-BFGS-B\")\n",
        "ax.set_xlabel(\"Epoch number\")\n",
        "ax.set_ylabel(\"Accuracy\")\n",
        "ax.grid(True)\n",
        "ax.legend()\n",
        "\n",
        "fig.tight_layout()\n",
        "plt.show()"
      ],
      "metadata": {
        "colab": {
          "base_uri": "https://localhost:8080/",
          "height": 507
        },
        "id": "G3fOnepxH37f",
        "outputId": "4a71ac8a-e96a-43ea-a105-f7079c3b7e67"
      },
      "execution_count": 179,
      "outputs": [
        {
          "output_type": "display_data",
          "data": {
            "text/plain": [
              "<Figure size 1000x500 with 1 Axes>"
            ],
            "image/png": "[encoded data removed]"
          },
          "metadata": {}
        }
      ]
    },
    {
      "cell_type": "code",
      "source": [
        "# SGD chart\n",
        "network = make_network(input_size=X_train.shape[1],\n",
        "                        output_size=10,\n",
        "                        n_layers=3,\n",
        "                        hidden_layers_size=32,\n",
        "                        activation_class=ReLU)\n",
        "initialize_network(network, 'Kaiming')\n",
        "weights = get_weights(network)\n",
        "cb = Callback(network, X_train, y_train, X_test, y_test, print=False)\n",
        "\n",
        "start_time = time()\n",
        "res = SGD(compute_loss_grad, weights,\n",
        "          args=[network, X_train, y_train],\n",
        "          method=SGD,\n",
        "          jac=True,\n",
        "          callback=cb.call,\n",
        "          n_iter=5000,\n",
        "          momentum=0,\n",
        "          lr=results['SGD']['params'][index_sgd]['lr'],\n",
        "          batch_size=results['SGD']['params'][index_sgd]['batch_size'])\n",
        "\n",
        "fig, ax = plt.subplots(1, 1, figsize=(10, 5))\n",
        "\n",
        "ax.plot(cb.test_acc, label='Test')\n",
        "ax.plot(cb.train_acc, label='Train')\n",
        "ax.set_title(\"SGD\")\n",
        "ax.set_xlabel(\"Epoch number\")\n",
        "ax.set_ylabel(\"Accuracy\")\n",
        "ax.grid(True)\n",
        "ax.legend()\n",
        "\n",
        "fig.tight_layout()\n",
        "plt.show()"
      ],
      "metadata": {
        "colab": {
          "base_uri": "https://localhost:8080/",
          "height": 507
        },
        "id": "ITu8XQNPJNgO",
        "outputId": "246c28a3-4261-4ac2-98d0-07d938e5088d"
      },
      "execution_count": 184,
      "outputs": [
        {
          "output_type": "display_data",
          "data": {
            "text/plain": [
              "<Figure size 1000x500 with 1 Axes>"
            ],
            "image/png": "[encoded data removed]"
          },
          "metadata": {}
        }
      ]
    },
    {
      "cell_type": "code",
      "source": [
        "# SGD with momentum chart\n",
        "network = make_network(input_size=X_train.shape[1],\n",
        "                        output_size=10,\n",
        "                        n_layers=3,\n",
        "                        hidden_layers_size=32,\n",
        "                        activation_class=ReLU)\n",
        "initialize_network(network, 'Kaiming')\n",
        "weights = get_weights(network)\n",
        "cb = Callback(network, X_train, y_train, X_test, y_test, print=False)\n",
        "\n",
        "start_time = time()\n",
        "res = SGD(compute_loss_grad, weights,\n",
        "          args=[network, X_train, y_train],\n",
        "          method=SGD,\n",
        "          jac=True,\n",
        "          callback=cb.call,\n",
        "          n_iter=5000,\n",
        "          momentum=0.9,\n",
        "          lr=results['SGD_momentum']['params'][index_sgdm]['lr'],\n",
        "          batch_size=results['SGD_momentum']['params'][index_sgdm]['batch_size'])\n",
        "\n",
        "fig, ax = plt.subplots(1, 1, figsize=(10, 5))\n",
        "\n",
        "ax.plot(cb.test_acc, label='Test')\n",
        "ax.plot(cb.train_acc, label='Train')\n",
        "ax.set_title(\"SGD with momentum\")\n",
        "ax.set_xlabel(\"Epoch number\")\n",
        "ax.set_ylabel(\"Accuracy\")\n",
        "ax.grid(True)\n",
        "ax.legend()\n",
        "\n",
        "fig.tight_layout()\n",
        "plt.show()"
      ],
      "metadata": {
        "colab": {
          "base_uri": "https://localhost:8080/",
          "height": 507
        },
        "id": "Anj_dUBeJoio",
        "outputId": "bd97ca78-0bb2-4d11-a013-f00bf158a1ef"
      },
      "execution_count": 181,
      "outputs": [
        {
          "output_type": "display_data",
          "data": {
            "text/plain": [
              "<Figure size 1000x500 with 1 Axes>"
            ],
            "image/png": "[encoded data removed]"
          },
          "metadata": {}
        }
      ]
    },
    {
      "cell_type": "markdown",
      "metadata": {
        "id": "jsLR3KlQbO_K"
      },
      "source": [
        "**Выводы:**"
      ]
    },
    {
      "cell_type": "markdown",
      "metadata": {
        "id": "uln--riObO_K"
      },
      "source": [
        "Самым быстрым оказался L-BFGS-B с показателем времени в 2 секунды\n",
        "\n",
        "SGD показал лучшее качество. При этом он медленнее, чем SGD with momentum, который в данном эксперименте с данной инициализацией весов показал худший результат по точности."
      ]
    },
    {
      "cell_type": "markdown",
      "metadata": {
        "id": "cHcuVQTrbO_K"
      },
      "source": [
        "**Задание 3. (0.1 балла)** Для отобранных в прошлом задании трёх алгоритмов ответье на вопрос: как меняются запуски для двух значений `batch_size`."
      ]
    },
    {
      "cell_type": "code",
      "source": [
        "# SGD batch 8\n",
        "network = make_network(input_size=X_train.shape[1],\n",
        "                        output_size=10,\n",
        "                        n_layers=3,\n",
        "                        hidden_layers_size=32,\n",
        "                        activation_class=ReLU)\n",
        "initialize_network(network, 'Kaiming')\n",
        "weights = get_weights(network)\n",
        "cb = Callback(network, X_train, y_train, X_test, y_test, print=False)\n",
        "\n",
        "start_time = time()\n",
        "res = SGD(compute_loss_grad, weights,\n",
        "          args=[network, X_train, y_train],\n",
        "          method=SGD,\n",
        "          jac=True,\n",
        "          callback=cb.call,\n",
        "          n_iter=5000,\n",
        "          momentum=0,\n",
        "          lr=results['SGD']['params'][index_sgd]['lr'],\n",
        "          batch_size=8)\n",
        "\n",
        "sgd_test8 = cb.test_acc\n",
        "sgd_train8 = cb.train_acc"
      ],
      "metadata": {
        "id": "xqsAE5f-uCj6"
      },
      "execution_count": 185,
      "outputs": []
    },
    {
      "cell_type": "code",
      "source": [
        "# SGD batch 8\n",
        "network = make_network(input_size=X_train.shape[1],\n",
        "                        output_size=10,\n",
        "                        n_layers=3,\n",
        "                        hidden_layers_size=32,\n",
        "                        activation_class=ReLU)\n",
        "initialize_network(network, 'Kaiming')\n",
        "weights = get_weights(network)\n",
        "cb = Callback(network, X_train, y_train, X_test, y_test, print=False)\n",
        "\n",
        "start_time = time()\n",
        "res = SGD(compute_loss_grad, weights,\n",
        "          args=[network, X_train, y_train],\n",
        "          method=SGD,\n",
        "          jac=True,\n",
        "          callback=cb.call,\n",
        "          n_iter=5000,\n",
        "          momentum=0,\n",
        "          lr=results['SGD']['params'][index_sgd]['lr'],\n",
        "          batch_size=32)\n",
        "\n",
        "sgd_test32 = cb.test_acc\n",
        "sgd_train32 = cb.train_acc"
      ],
      "metadata": {
        "id": "wifJlVDhuYwD"
      },
      "execution_count": 186,
      "outputs": []
    },
    {
      "cell_type": "code",
      "source": [
        "fig, ax = plt.subplots(1, 2, figsize=(10, 5))\n",
        "\n",
        "ax[0].plot(sgd_test8, label='Test')\n",
        "ax[0].plot(sgd_train8, label='Train')\n",
        "\n",
        "ax[1].plot(sgd_test32, label='Test')\n",
        "ax[1].plot(sgd_train32, label='Train')\n",
        "\n",
        "for i in range(2):\n",
        "    ax[i].set_title(f\"SGD {8 + i * 24} batch\")\n",
        "    ax[i].set_xlabel(\"Epoch number\")\n",
        "    ax[i].set_ylabel(\"Accuracy\")\n",
        "    ax[i].grid(True)\n",
        "    ax[i].legend()\n",
        "\n",
        "fig.tight_layout()\n",
        "plt.show()"
      ],
      "metadata": {
        "colab": {
          "base_uri": "https://localhost:8080/",
          "height": 507
        },
        "id": "SSaHmw-suegi",
        "outputId": "d36e7c94-4f63-400e-872f-771baaaca711"
      },
      "execution_count": 189,
      "outputs": [
        {
          "output_type": "display_data",
          "data": {
            "text/plain": [
              "<Figure size 1000x500 with 2 Axes>"
            ],
            "image/png": "[encoded data removed]"
          },
          "metadata": {}
        }
      ]
    },
    {
      "cell_type": "code",
      "source": [
        "# SGD momentum batch 8\n",
        "network = make_network(input_size=X_train.shape[1],\n",
        "                        output_size=10,\n",
        "                        n_layers=3,\n",
        "                        hidden_layers_size=32,\n",
        "                        activation_class=ReLU)\n",
        "initialize_network(network, 'Kaiming')\n",
        "weights = get_weights(network)\n",
        "cb = Callback(network, X_train, y_train, X_test, y_test, print=False)\n",
        "\n",
        "start_time = time()\n",
        "res = SGD(compute_loss_grad, weights,\n",
        "          args=[network, X_train, y_train],\n",
        "          method=SGD,\n",
        "          jac=True,\n",
        "          callback=cb.call,\n",
        "          n_iter=5000,\n",
        "          momentum=0,\n",
        "          lr=results['SGD_momentum']['params'][index_sgdm]['lr'],\n",
        "          batch_size=8)\n",
        "\n",
        "sgdm_test8 = cb.test_acc\n",
        "sgdm_train8 = cb.train_acc"
      ],
      "metadata": {
        "id": "VX95vJYFvY5l"
      },
      "execution_count": 190,
      "outputs": []
    },
    {
      "cell_type": "code",
      "source": [
        "# SGD momentum batch 32\n",
        "network = make_network(input_size=X_train.shape[1],\n",
        "                        output_size=10,\n",
        "                        n_layers=3,\n",
        "                        hidden_layers_size=32,\n",
        "                        activation_class=ReLU)\n",
        "initialize_network(network, 'Kaiming')\n",
        "weights = get_weights(network)\n",
        "cb = Callback(network, X_train, y_train, X_test, y_test, print=False)\n",
        "\n",
        "start_time = time()\n",
        "res = SGD(compute_loss_grad, weights,\n",
        "          args=[network, X_train, y_train],\n",
        "          method=SGD,\n",
        "          jac=True,\n",
        "          callback=cb.call,\n",
        "          n_iter=5000,\n",
        "          momentum=0,\n",
        "          lr=results['SGD_momentum']['params'][index_sgdm]['lr'],\n",
        "          batch_size=32)\n",
        "\n",
        "sgdm_test32 = cb.test_acc\n",
        "sgdm_train32 = cb.train_acc"
      ],
      "metadata": {
        "id": "QM9-t6K7vhLc"
      },
      "execution_count": 191,
      "outputs": []
    },
    {
      "cell_type": "code",
      "source": [
        "fig, ax = plt.subplots(1, 2, figsize=(10, 5))\n",
        "\n",
        "ax[0].plot(sgdm_test8, label='Test')\n",
        "ax[0].plot(sgdm_train8, label='Train')\n",
        "\n",
        "ax[1].plot(sgdm_test32, label='Test')\n",
        "ax[1].plot(sgdm_train32, label='Train')\n",
        "\n",
        "for i in range(2):\n",
        "    ax[i].set_title(f\"SGD momentum {8 + i * 24} batch\")\n",
        "    ax[i].set_xlabel(\"Epoch number\")\n",
        "    ax[i].set_ylabel(\"Accuracy\")\n",
        "    ax[i].grid(True)\n",
        "    ax[i].legend()\n",
        "\n",
        "fig.tight_layout()\n",
        "plt.show()"
      ],
      "metadata": {
        "colab": {
          "base_uri": "https://localhost:8080/",
          "height": 507
        },
        "id": "EIEcwCcWvsWp",
        "outputId": "67938b58-96b7-4d4f-b2b4-813f9d899828"
      },
      "execution_count": 192,
      "outputs": [
        {
          "output_type": "display_data",
          "data": {
            "text/plain": [
              "<Figure size 1000x500 with 2 Axes>"
            ],
            "image/png": "[encoded data removed]"
          },
          "metadata": {}
        }
      ]
    },
    {
      "cell_type": "markdown",
      "metadata": {
        "id": "oiyRUHjnbO_K"
      },
      "source": [
        "**Ответ:**"
      ]
    },
    {
      "cell_type": "markdown",
      "metadata": {
        "id": "qqfIQqC3bO_K"
      },
      "source": [
        "Видно, что больший размер батча делает обучение более стабильным. Это выполнено как для SGD, так и для SGD с инерцией. Хотя и не всегда увеличение размера батча даёт лучшее качество, как видно по SGD с инерцией.\n"
      ]
    },
    {
      "cell_type": "markdown",
      "metadata": {
        "id": "AcnlmvQYbO_L"
      },
      "source": [
        "## `Бонусная часть`"
      ]
    },
    {
      "cell_type": "markdown",
      "metadata": {
        "id": "ueVPS_jsbO_L"
      },
      "source": [
        "### `Реализация метода оптимизации (1 балл)`\n",
        "\n",
        "Реализуйте метод оптимизации Adam и сравните его работу с SGD + momentum, проведя эксперимент, как в задании 2 (перебор гиперпараметров + кривые обучения)."
      ]
    },
    {
      "cell_type": "markdown",
      "metadata": {
        "id": "JGKKTwKdbO_L"
      },
      "source": [
        "### `Dropout (1 балл)`\n",
        "\n",
        "Реализуйте слой Dropout. Сравните обучение сети из большого числа слоёв при использовании Dropout и без его использования (предварительно подберите адекватный параметр $p$). Сделайте выводы."
      ]
    },
    {
      "cell_type": "markdown",
      "metadata": {
        "id": "midwlDXpbO_L"
      },
      "source": [
        "### `BatchNormalization (1 балл)`\n",
        "\n",
        "Реализуйте слой `BatchNormalization`. Сравните обучение сети из большого числа слоёв при использовании `BatchNormalization` и без его использования. Сделайте выводы."
      ]
    }
  ],
  "metadata": {
    "colab": {
      "provenance": []
    },
    "kernelspec": {
      "display_name": "Python 3 (ipykernel)",
      "language": "python",
      "name": "python3"
    },
    "language_info": {
      "codemirror_mode": {
        "name": "ipython",
        "version": 3
      },
      "file_extension": ".py",
      "mimetype": "text/x-python",
      "name": "python",
      "nbconvert_exporter": "python",
      "pygments_lexer": "ipython3",
      "version": "3.10.9"
    }
  },
  "nbformat": 4,
  "nbformat_minor": 0
}